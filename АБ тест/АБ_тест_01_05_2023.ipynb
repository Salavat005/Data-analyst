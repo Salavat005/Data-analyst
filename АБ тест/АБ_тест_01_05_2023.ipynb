{
  "nbformat": 4,
  "nbformat_minor": 0,
  "metadata": {
    "colab": {
      "provenance": []
    },
    "kernelspec": {
      "name": "python3",
      "display_name": "Python 3"
    },
    "language_info": {
      "name": "python"
    }
  },
  "cells": [
    {
      "cell_type": "markdown",
      "source": [
        "Проект по А/B-тестированию\n",
        "\n",
        "\n",
        "\n",
        "Описание данных\n",
        "*ab_project_marketing_events.csv* — календарь маркетинговых событий на 2020 год.\n",
        "Структура файла:\n",
        "name — название маркетингового события;\n",
        "regions — регионы, в которых будет проводиться рекламная кампания;\n",
        "start_dt — дата начала кампании;\n",
        "finish_dt — дата завершения кампании.\n",
        "\n",
        "\n",
        "\n",
        "*final_ab_new_users.csv* — пользователи, зарегистрировавшиеся с 7 по 21 декабря 2020 года.\n",
        "Структура файла:\n",
        "user_id — идентификатор пользователя;\n",
        "first_date — дата регистрации;\n",
        "region — регион пользователя;\n",
        "device — устройство, с которого происходила регистрация.\n",
        "\n",
        "\n",
        "*final_ab_events.csv* — действия новых пользователей в период с 7 декабря 2020 по 4 января 2021 года.\n",
        "Структура файла:\n",
        "user_id — идентификатор пользователя;\n",
        "event_dt — дата и время покупки;\n",
        "event_name — тип события;\n",
        "details — дополнительные данные о событии. Например, для покупок, purchase, в этом поле хранится стоимость покупки в долларах.\n",
        "\n",
        "\n",
        "\n",
        "*final_ab_participants.csv* — таблица участников тестов.\n",
        "Структура файла:\n",
        "user_id — идентификатор пользователя;\n",
        "ab_test — название теста;\n",
        "group — группа пользователя.\n",
        "\n",
        "\n",
        "\n",
        "Постановка задачи\n",
        "*Задача — провести оценку результатов A/B-теста.* В распоряжении есть датасет с действиями пользователей, техническое задание и несколько вспомогательных датасетов.\n",
        "\n",
        "\n",
        "\n",
        "*Оценить корректность проведения теста*\n",
        "\n",
        "пересечение тестовой аудитории с конкурирующим тестом,\n",
        "совпадение теста и маркетинговых событий, другие проблемы временных границ теста.\n",
        "*Проанализировать результаты теста*\n",
        "\n",
        "\n",
        "\n",
        "Техническое задание\n",
        "Название теста: *recommender_system_test*;\n",
        "группы: А — контрольная, B — новая платёжная воронка;\n",
        "дата запуска: 2020-12-07;\n",
        "дата остановки набора новых пользователей: 2020-12-21;\n",
        "дата остановки: 2021-01-04;\n",
        "аудитория: 15% новых пользователей из региона EU;\n",
        "назначение теста: *тестирование изменений, связанных с внедрением улучшенной рекомендательной системы*;\n",
        "ожидаемое количество участников теста: 6000.\n",
        "ожидаемый эффект: за 14 дней с момента регистрации пользователи покажут улучшение каждой метрики не менее, чем на 10%:\n",
        "конверсии в просмотр карточек товаров — событие product_page,\n",
        "просмотры корзины — product_cart,\n",
        "покупки — purchase.\n",
        "План работы\n",
        "*Загрузка данных и подготовка их к анализу*\n",
        "\n",
        "\n",
        "\n",
        "*Предобработка данных*\n",
        "\n",
        "\n",
        "\n",
        "Преобразование данных к нужным типам\n",
        "*Оценка корректности проведения теста*\n",
        "Соответствие данных требованиям технического задания\n",
        "Время проведения теста\n",
        "Аудитория теста\n",
        "*Исследовательский анализ данных*\n",
        "Распределение событий на одного пользователя в выборках\n",
        "Распределение событий и пользователей по дням\n",
        "Изменение конверсии в воронке на разных этапах\n",
        "*A/B - тестирование*\n",
        "Изменение метрик за 14 дней с момента регистрации пользователя\n",
        "Проверка статистической разницы долей z-критерием\n",
        "*Вывод*"
      ],
      "metadata": {
        "id": "2IWd8q9iRuhQ"
      }
    },
    {
      "cell_type": "markdown",
      "source": [
        "Задачу взял тут: https://github.com/MikhailAleshin/Data-Analysis-Projects/tree/main/A_B_test"
      ],
      "metadata": {
        "id": "nM7FWkHLR4bt"
      }
    },
    {
      "cell_type": "code",
      "source": [
        "import pandas as pd\n",
        "import numpy as np \n",
        "from scipy import stats \n",
        "import math\n",
        "import matplotlib.pyplot as plt\n",
        "from scipy.stats import norm"
      ],
      "metadata": {
        "id": "6YTtKOo-UXy9"
      },
      "execution_count": 1,
      "outputs": []
    },
    {
      "cell_type": "code",
      "execution_count": 2,
      "metadata": {
        "colab": {
          "base_uri": "https://localhost:8080/"
        },
        "id": "pvqvIEkcRrzd",
        "outputId": "6913767b-c535-4f87-c225-c7f7e294c37f"
      },
      "outputs": [
        {
          "output_type": "stream",
          "name": "stdout",
          "text": [
            "Drive already mounted at /content/drive; to attempt to forcibly remount, call drive.mount(\"/content/drive\", force_remount=True).\n"
          ]
        }
      ],
      "source": [
        "from google.colab import drive\n",
        "drive.mount('/content/drive')"
      ]
    },
    {
      "cell_type": "code",
      "source": [
        "ab_project_marketing_events = pd.read_csv(\"/content/drive/MyDrive/ab_project_marketing_events.csv\",error_bad_lines=False, engine=\"python\")"
      ],
      "metadata": {
        "colab": {
          "base_uri": "https://localhost:8080/"
        },
        "id": "ivoFw65LUKwm",
        "outputId": "f63667a2-01ec-42c2-af72-e1b0f0b8b381"
      },
      "execution_count": 3,
      "outputs": [
        {
          "output_type": "stream",
          "name": "stderr",
          "text": [
            "<ipython-input-3-4fe7b28176d6>:1: FutureWarning: The error_bad_lines argument has been deprecated and will be removed in a future version. Use on_bad_lines in the future.\n",
            "\n",
            "\n",
            "  ab_project_marketing_events = pd.read_csv(\"/content/drive/MyDrive/ab_project_marketing_events.csv\",error_bad_lines=False, engine=\"python\")\n"
          ]
        }
      ]
    },
    {
      "cell_type": "code",
      "source": [
        "final_ab_new_users = pd.read_csv(\"/content/drive/MyDrive/final_ab_new_users.csv\",error_bad_lines=False, engine=\"python\")"
      ],
      "metadata": {
        "colab": {
          "base_uri": "https://localhost:8080/"
        },
        "id": "RBhjpbohUbWc",
        "outputId": "36df5993-eb51-4dad-f3bd-b2284143afb3"
      },
      "execution_count": 4,
      "outputs": [
        {
          "output_type": "stream",
          "name": "stderr",
          "text": [
            "<ipython-input-4-494b3f897e40>:1: FutureWarning: The error_bad_lines argument has been deprecated and will be removed in a future version. Use on_bad_lines in the future.\n",
            "\n",
            "\n",
            "  final_ab_new_users = pd.read_csv(\"/content/drive/MyDrive/final_ab_new_users.csv\",error_bad_lines=False, engine=\"python\")\n"
          ]
        }
      ]
    },
    {
      "cell_type": "code",
      "source": [
        "final_ab_events = pd.read_csv(\"/content/drive/MyDrive/final_ab_events.csv\",error_bad_lines=False, engine=\"python\")"
      ],
      "metadata": {
        "colab": {
          "base_uri": "https://localhost:8080/"
        },
        "id": "J5JIVXzEUlOV",
        "outputId": "14153a15-e750-4127-f9b6-e5354800e3e8"
      },
      "execution_count": 5,
      "outputs": [
        {
          "output_type": "stream",
          "name": "stderr",
          "text": [
            "<ipython-input-5-ded0bf01929b>:1: FutureWarning: The error_bad_lines argument has been deprecated and will be removed in a future version. Use on_bad_lines in the future.\n",
            "\n",
            "\n",
            "  final_ab_events = pd.read_csv(\"/content/drive/MyDrive/final_ab_events.csv\",error_bad_lines=False, engine=\"python\")\n"
          ]
        }
      ]
    },
    {
      "cell_type": "code",
      "source": [
        "final_ab_participants = pd.read_csv(\"/content/drive/MyDrive/final_ab_participants.csv\",error_bad_lines=False, engine=\"python\")"
      ],
      "metadata": {
        "colab": {
          "base_uri": "https://localhost:8080/"
        },
        "id": "J0YK3R7PUtLF",
        "outputId": "2e13bd7c-9533-4a9a-c6fb-a310b5711b81"
      },
      "execution_count": 6,
      "outputs": [
        {
          "output_type": "stream",
          "name": "stderr",
          "text": [
            "<ipython-input-6-018f7bdc3d96>:1: FutureWarning: The error_bad_lines argument has been deprecated and will be removed in a future version. Use on_bad_lines in the future.\n",
            "\n",
            "\n",
            "  final_ab_participants = pd.read_csv(\"/content/drive/MyDrive/final_ab_participants.csv\",error_bad_lines=False, engine=\"python\")\n"
          ]
        }
      ]
    },
    {
      "cell_type": "markdown",
      "source": [
        "##календарь маркетинговых событий на 2020 год"
      ],
      "metadata": {
        "id": "dNSaCVfpfe7W"
      }
    },
    {
      "cell_type": "code",
      "source": [
        "ab_project_marketing_events"
      ],
      "metadata": {
        "colab": {
          "base_uri": "https://localhost:8080/",
          "height": 489
        },
        "id": "Zw6q746K396c",
        "outputId": "8c7c87d4-bb56-48bd-db55-0182058802c4"
      },
      "execution_count": 7,
      "outputs": [
        {
          "output_type": "execute_result",
          "data": {
            "text/plain": [
              "                                name                   regions    start_dt  \\\n",
              "0           Christmas&New Year Promo             EU, N.America  2020-12-25   \n",
              "1       St. Valentine's Day Giveaway  EU, CIS, APAC, N.America  2020-02-14   \n",
              "2             St. Patric's Day Promo             EU, N.America  2020-03-17   \n",
              "3                       Easter Promo  EU, CIS, APAC, N.America  2020-04-12   \n",
              "4                  4th of July Promo                 N.America  2020-07-04   \n",
              "5          Black Friday Ads Campaign  EU, CIS, APAC, N.America  2020-11-26   \n",
              "6             Chinese New Year Promo                      APAC  2020-01-25   \n",
              "7   Labor day (May 1st) Ads Campaign             EU, CIS, APAC  2020-05-01   \n",
              "8    International Women's Day Promo             EU, CIS, APAC  2020-03-08   \n",
              "9    Victory Day CIS (May 9th) Event                       CIS  2020-05-09   \n",
              "10         CIS New Year Gift Lottery                       CIS  2020-12-30   \n",
              "11     Dragon Boat Festival Giveaway                      APAC  2020-06-25   \n",
              "12           Single's Day Gift Promo                      APAC  2020-11-11   \n",
              "13             Chinese Moon Festival                      APAC  2020-10-01   \n",
              "\n",
              "     finish_dt  \n",
              "0   2021-01-03  \n",
              "1   2020-02-16  \n",
              "2   2020-03-19  \n",
              "3   2020-04-19  \n",
              "4   2020-07-11  \n",
              "5   2020-12-01  \n",
              "6   2020-02-07  \n",
              "7   2020-05-03  \n",
              "8   2020-03-10  \n",
              "9   2020-05-11  \n",
              "10  2021-01-07  \n",
              "11  2020-07-01  \n",
              "12  2020-11-12  \n",
              "13  2020-10-07  "
            ],
            "text/html": [
              "\n",
              "  <div id=\"df-58c65639-b146-401f-9a99-ce9b763b412b\">\n",
              "    <div class=\"colab-df-container\">\n",
              "      <div>\n",
              "<style scoped>\n",
              "    .dataframe tbody tr th:only-of-type {\n",
              "        vertical-align: middle;\n",
              "    }\n",
              "\n",
              "    .dataframe tbody tr th {\n",
              "        vertical-align: top;\n",
              "    }\n",
              "\n",
              "    .dataframe thead th {\n",
              "        text-align: right;\n",
              "    }\n",
              "</style>\n",
              "<table border=\"1\" class=\"dataframe\">\n",
              "  <thead>\n",
              "    <tr style=\"text-align: right;\">\n",
              "      <th></th>\n",
              "      <th>name</th>\n",
              "      <th>regions</th>\n",
              "      <th>start_dt</th>\n",
              "      <th>finish_dt</th>\n",
              "    </tr>\n",
              "  </thead>\n",
              "  <tbody>\n",
              "    <tr>\n",
              "      <th>0</th>\n",
              "      <td>Christmas&amp;New Year Promo</td>\n",
              "      <td>EU, N.America</td>\n",
              "      <td>2020-12-25</td>\n",
              "      <td>2021-01-03</td>\n",
              "    </tr>\n",
              "    <tr>\n",
              "      <th>1</th>\n",
              "      <td>St. Valentine's Day Giveaway</td>\n",
              "      <td>EU, CIS, APAC, N.America</td>\n",
              "      <td>2020-02-14</td>\n",
              "      <td>2020-02-16</td>\n",
              "    </tr>\n",
              "    <tr>\n",
              "      <th>2</th>\n",
              "      <td>St. Patric's Day Promo</td>\n",
              "      <td>EU, N.America</td>\n",
              "      <td>2020-03-17</td>\n",
              "      <td>2020-03-19</td>\n",
              "    </tr>\n",
              "    <tr>\n",
              "      <th>3</th>\n",
              "      <td>Easter Promo</td>\n",
              "      <td>EU, CIS, APAC, N.America</td>\n",
              "      <td>2020-04-12</td>\n",
              "      <td>2020-04-19</td>\n",
              "    </tr>\n",
              "    <tr>\n",
              "      <th>4</th>\n",
              "      <td>4th of July Promo</td>\n",
              "      <td>N.America</td>\n",
              "      <td>2020-07-04</td>\n",
              "      <td>2020-07-11</td>\n",
              "    </tr>\n",
              "    <tr>\n",
              "      <th>5</th>\n",
              "      <td>Black Friday Ads Campaign</td>\n",
              "      <td>EU, CIS, APAC, N.America</td>\n",
              "      <td>2020-11-26</td>\n",
              "      <td>2020-12-01</td>\n",
              "    </tr>\n",
              "    <tr>\n",
              "      <th>6</th>\n",
              "      <td>Chinese New Year Promo</td>\n",
              "      <td>APAC</td>\n",
              "      <td>2020-01-25</td>\n",
              "      <td>2020-02-07</td>\n",
              "    </tr>\n",
              "    <tr>\n",
              "      <th>7</th>\n",
              "      <td>Labor day (May 1st) Ads Campaign</td>\n",
              "      <td>EU, CIS, APAC</td>\n",
              "      <td>2020-05-01</td>\n",
              "      <td>2020-05-03</td>\n",
              "    </tr>\n",
              "    <tr>\n",
              "      <th>8</th>\n",
              "      <td>International Women's Day Promo</td>\n",
              "      <td>EU, CIS, APAC</td>\n",
              "      <td>2020-03-08</td>\n",
              "      <td>2020-03-10</td>\n",
              "    </tr>\n",
              "    <tr>\n",
              "      <th>9</th>\n",
              "      <td>Victory Day CIS (May 9th) Event</td>\n",
              "      <td>CIS</td>\n",
              "      <td>2020-05-09</td>\n",
              "      <td>2020-05-11</td>\n",
              "    </tr>\n",
              "    <tr>\n",
              "      <th>10</th>\n",
              "      <td>CIS New Year Gift Lottery</td>\n",
              "      <td>CIS</td>\n",
              "      <td>2020-12-30</td>\n",
              "      <td>2021-01-07</td>\n",
              "    </tr>\n",
              "    <tr>\n",
              "      <th>11</th>\n",
              "      <td>Dragon Boat Festival Giveaway</td>\n",
              "      <td>APAC</td>\n",
              "      <td>2020-06-25</td>\n",
              "      <td>2020-07-01</td>\n",
              "    </tr>\n",
              "    <tr>\n",
              "      <th>12</th>\n",
              "      <td>Single's Day Gift Promo</td>\n",
              "      <td>APAC</td>\n",
              "      <td>2020-11-11</td>\n",
              "      <td>2020-11-12</td>\n",
              "    </tr>\n",
              "    <tr>\n",
              "      <th>13</th>\n",
              "      <td>Chinese Moon Festival</td>\n",
              "      <td>APAC</td>\n",
              "      <td>2020-10-01</td>\n",
              "      <td>2020-10-07</td>\n",
              "    </tr>\n",
              "  </tbody>\n",
              "</table>\n",
              "</div>\n",
              "      <button class=\"colab-df-convert\" onclick=\"convertToInteractive('df-58c65639-b146-401f-9a99-ce9b763b412b')\"\n",
              "              title=\"Convert this dataframe to an interactive table.\"\n",
              "              style=\"display:none;\">\n",
              "        \n",
              "  <svg xmlns=\"http://www.w3.org/2000/svg\" height=\"24px\"viewBox=\"0 0 24 24\"\n",
              "       width=\"24px\">\n",
              "    <path d=\"M0 0h24v24H0V0z\" fill=\"none\"/>\n",
              "    <path d=\"M18.56 5.44l.94 2.06.94-2.06 2.06-.94-2.06-.94-.94-2.06-.94 2.06-2.06.94zm-11 1L8.5 8.5l.94-2.06 2.06-.94-2.06-.94L8.5 2.5l-.94 2.06-2.06.94zm10 10l.94 2.06.94-2.06 2.06-.94-2.06-.94-.94-2.06-.94 2.06-2.06.94z\"/><path d=\"M17.41 7.96l-1.37-1.37c-.4-.4-.92-.59-1.43-.59-.52 0-1.04.2-1.43.59L10.3 9.45l-7.72 7.72c-.78.78-.78 2.05 0 2.83L4 21.41c.39.39.9.59 1.41.59.51 0 1.02-.2 1.41-.59l7.78-7.78 2.81-2.81c.8-.78.8-2.07 0-2.86zM5.41 20L4 18.59l7.72-7.72 1.47 1.35L5.41 20z\"/>\n",
              "  </svg>\n",
              "      </button>\n",
              "      \n",
              "  <style>\n",
              "    .colab-df-container {\n",
              "      display:flex;\n",
              "      flex-wrap:wrap;\n",
              "      gap: 12px;\n",
              "    }\n",
              "\n",
              "    .colab-df-convert {\n",
              "      background-color: #E8F0FE;\n",
              "      border: none;\n",
              "      border-radius: 50%;\n",
              "      cursor: pointer;\n",
              "      display: none;\n",
              "      fill: #1967D2;\n",
              "      height: 32px;\n",
              "      padding: 0 0 0 0;\n",
              "      width: 32px;\n",
              "    }\n",
              "\n",
              "    .colab-df-convert:hover {\n",
              "      background-color: #E2EBFA;\n",
              "      box-shadow: 0px 1px 2px rgba(60, 64, 67, 0.3), 0px 1px 3px 1px rgba(60, 64, 67, 0.15);\n",
              "      fill: #174EA6;\n",
              "    }\n",
              "\n",
              "    [theme=dark] .colab-df-convert {\n",
              "      background-color: #3B4455;\n",
              "      fill: #D2E3FC;\n",
              "    }\n",
              "\n",
              "    [theme=dark] .colab-df-convert:hover {\n",
              "      background-color: #434B5C;\n",
              "      box-shadow: 0px 1px 3px 1px rgba(0, 0, 0, 0.15);\n",
              "      filter: drop-shadow(0px 1px 2px rgba(0, 0, 0, 0.3));\n",
              "      fill: #FFFFFF;\n",
              "    }\n",
              "  </style>\n",
              "\n",
              "      <script>\n",
              "        const buttonEl =\n",
              "          document.querySelector('#df-58c65639-b146-401f-9a99-ce9b763b412b button.colab-df-convert');\n",
              "        buttonEl.style.display =\n",
              "          google.colab.kernel.accessAllowed ? 'block' : 'none';\n",
              "\n",
              "        async function convertToInteractive(key) {\n",
              "          const element = document.querySelector('#df-58c65639-b146-401f-9a99-ce9b763b412b');\n",
              "          const dataTable =\n",
              "            await google.colab.kernel.invokeFunction('convertToInteractive',\n",
              "                                                     [key], {});\n",
              "          if (!dataTable) return;\n",
              "\n",
              "          const docLinkHtml = 'Like what you see? Visit the ' +\n",
              "            '<a target=\"_blank\" href=https://colab.research.google.com/notebooks/data_table.ipynb>data table notebook</a>'\n",
              "            + ' to learn more about interactive tables.';\n",
              "          element.innerHTML = '';\n",
              "          dataTable['output_type'] = 'display_data';\n",
              "          await google.colab.output.renderOutput(dataTable, element);\n",
              "          const docLink = document.createElement('div');\n",
              "          docLink.innerHTML = docLinkHtml;\n",
              "          element.appendChild(docLink);\n",
              "        }\n",
              "      </script>\n",
              "    </div>\n",
              "  </div>\n",
              "  "
            ]
          },
          "metadata": {},
          "execution_count": 7
        }
      ]
    },
    {
      "cell_type": "code",
      "source": [
        "ab_project_marketing_events.info()"
      ],
      "metadata": {
        "colab": {
          "base_uri": "https://localhost:8080/"
        },
        "id": "EVCRqvJpfpzV",
        "outputId": "5f9abf02-01a5-4c04-f6a2-65ef7f2300f5"
      },
      "execution_count": 8,
      "outputs": [
        {
          "output_type": "stream",
          "name": "stdout",
          "text": [
            "<class 'pandas.core.frame.DataFrame'>\n",
            "RangeIndex: 14 entries, 0 to 13\n",
            "Data columns (total 4 columns):\n",
            " #   Column     Non-Null Count  Dtype \n",
            "---  ------     --------------  ----- \n",
            " 0   name       14 non-null     object\n",
            " 1   regions    14 non-null     object\n",
            " 2   start_dt   14 non-null     object\n",
            " 3   finish_dt  14 non-null     object\n",
            "dtypes: object(4)\n",
            "memory usage: 576.0+ bytes\n"
          ]
        }
      ]
    },
    {
      "cell_type": "code",
      "source": [
        "ab_project_marketing_events['start_dt'] = pd.to_datetime(ab_project_marketing_events['start_dt'], format=\"%Y-%m-%d\") # преобразовываем формат даты"
      ],
      "metadata": {
        "id": "yczqhPoqft4E"
      },
      "execution_count": 9,
      "outputs": []
    },
    {
      "cell_type": "code",
      "source": [
        "ab_project_marketing_events['finish_dt'] = pd.to_datetime(ab_project_marketing_events['finish_dt'], format=\"%Y-%m-%d\") # преобразовываем формат даты"
      ],
      "metadata": {
        "id": "FwkEBcvQftv8"
      },
      "execution_count": 10,
      "outputs": []
    },
    {
      "cell_type": "code",
      "source": [
        "num_duplicates1= ab_project_marketing_events.duplicated().sum() # проверяем на дубликаты\n",
        "num_duplicates1"
      ],
      "metadata": {
        "colab": {
          "base_uri": "https://localhost:8080/"
        },
        "id": "DDsYX6K4hHX9",
        "outputId": "e90c15ec-391e-46dd-fac4-ce8808cbdfa3"
      },
      "execution_count": 11,
      "outputs": [
        {
          "output_type": "execute_result",
          "data": {
            "text/plain": [
              "0"
            ]
          },
          "metadata": {},
          "execution_count": 11
        }
      ]
    },
    {
      "cell_type": "code",
      "source": [
        "print(ab_project_marketing_events.isna().sum()) # проверка на пропуски"
      ],
      "metadata": {
        "colab": {
          "base_uri": "https://localhost:8080/"
        },
        "id": "7OTJzNVAh0oV",
        "outputId": "21069d92-eb06-4677-eb64-c84bba1b9406"
      },
      "execution_count": 12,
      "outputs": [
        {
          "output_type": "stream",
          "name": "stdout",
          "text": [
            "name         0\n",
            "regions      0\n",
            "start_dt     0\n",
            "finish_dt    0\n",
            "dtype: int64\n"
          ]
        }
      ]
    },
    {
      "cell_type": "markdown",
      "source": [
        "С таблицей маркетинговых событий проблем нет.данные преобразовал"
      ],
      "metadata": {
        "id": "EpJVR9_wjHHE"
      }
    },
    {
      "cell_type": "markdown",
      "source": [
        "##Пользователи, зарегистрировавшиеся с 7 по 21 декабря 2020 года"
      ],
      "metadata": {
        "id": "Z66xa2iwgFu2"
      }
    },
    {
      "cell_type": "code",
      "source": [
        "final_ab_new_users"
      ],
      "metadata": {
        "colab": {
          "base_uri": "https://localhost:8080/",
          "height": 424
        },
        "id": "LD9LqxqR4Dl0",
        "outputId": "652d6cf8-319d-4610-fae5-9dd40b678606"
      },
      "execution_count": 13,
      "outputs": [
        {
          "output_type": "execute_result",
          "data": {
            "text/plain": [
              "                user_id  first_date     region   device\n",
              "0      D72A72121175D8BE  2020-12-07         EU       PC\n",
              "1      F1C668619DFE6E65  2020-12-07  N.America  Android\n",
              "2      2E1BF1D4C37EA01F  2020-12-07         EU       PC\n",
              "3      50734A22C0C63768  2020-12-07         EU   iPhone\n",
              "4      E1BDDCE0DAFA2679  2020-12-07  N.America   iPhone\n",
              "...                 ...         ...        ...      ...\n",
              "61728  1DB53B933257165D  2020-12-20         EU  Android\n",
              "61729  538643EB4527ED03  2020-12-20         EU      Mac\n",
              "61730  7ADEE837D5D8CBBD  2020-12-20         EU       PC\n",
              "61731  1C7D23927835213F  2020-12-20         EU   iPhone\n",
              "61732  8F04273BB2860229  2020-12-20         EU  Android\n",
              "\n",
              "[61733 rows x 4 columns]"
            ],
            "text/html": [
              "\n",
              "  <div id=\"df-3f4db65a-8018-4e85-a9c9-c9b8de7462b6\">\n",
              "    <div class=\"colab-df-container\">\n",
              "      <div>\n",
              "<style scoped>\n",
              "    .dataframe tbody tr th:only-of-type {\n",
              "        vertical-align: middle;\n",
              "    }\n",
              "\n",
              "    .dataframe tbody tr th {\n",
              "        vertical-align: top;\n",
              "    }\n",
              "\n",
              "    .dataframe thead th {\n",
              "        text-align: right;\n",
              "    }\n",
              "</style>\n",
              "<table border=\"1\" class=\"dataframe\">\n",
              "  <thead>\n",
              "    <tr style=\"text-align: right;\">\n",
              "      <th></th>\n",
              "      <th>user_id</th>\n",
              "      <th>first_date</th>\n",
              "      <th>region</th>\n",
              "      <th>device</th>\n",
              "    </tr>\n",
              "  </thead>\n",
              "  <tbody>\n",
              "    <tr>\n",
              "      <th>0</th>\n",
              "      <td>D72A72121175D8BE</td>\n",
              "      <td>2020-12-07</td>\n",
              "      <td>EU</td>\n",
              "      <td>PC</td>\n",
              "    </tr>\n",
              "    <tr>\n",
              "      <th>1</th>\n",
              "      <td>F1C668619DFE6E65</td>\n",
              "      <td>2020-12-07</td>\n",
              "      <td>N.America</td>\n",
              "      <td>Android</td>\n",
              "    </tr>\n",
              "    <tr>\n",
              "      <th>2</th>\n",
              "      <td>2E1BF1D4C37EA01F</td>\n",
              "      <td>2020-12-07</td>\n",
              "      <td>EU</td>\n",
              "      <td>PC</td>\n",
              "    </tr>\n",
              "    <tr>\n",
              "      <th>3</th>\n",
              "      <td>50734A22C0C63768</td>\n",
              "      <td>2020-12-07</td>\n",
              "      <td>EU</td>\n",
              "      <td>iPhone</td>\n",
              "    </tr>\n",
              "    <tr>\n",
              "      <th>4</th>\n",
              "      <td>E1BDDCE0DAFA2679</td>\n",
              "      <td>2020-12-07</td>\n",
              "      <td>N.America</td>\n",
              "      <td>iPhone</td>\n",
              "    </tr>\n",
              "    <tr>\n",
              "      <th>...</th>\n",
              "      <td>...</td>\n",
              "      <td>...</td>\n",
              "      <td>...</td>\n",
              "      <td>...</td>\n",
              "    </tr>\n",
              "    <tr>\n",
              "      <th>61728</th>\n",
              "      <td>1DB53B933257165D</td>\n",
              "      <td>2020-12-20</td>\n",
              "      <td>EU</td>\n",
              "      <td>Android</td>\n",
              "    </tr>\n",
              "    <tr>\n",
              "      <th>61729</th>\n",
              "      <td>538643EB4527ED03</td>\n",
              "      <td>2020-12-20</td>\n",
              "      <td>EU</td>\n",
              "      <td>Mac</td>\n",
              "    </tr>\n",
              "    <tr>\n",
              "      <th>61730</th>\n",
              "      <td>7ADEE837D5D8CBBD</td>\n",
              "      <td>2020-12-20</td>\n",
              "      <td>EU</td>\n",
              "      <td>PC</td>\n",
              "    </tr>\n",
              "    <tr>\n",
              "      <th>61731</th>\n",
              "      <td>1C7D23927835213F</td>\n",
              "      <td>2020-12-20</td>\n",
              "      <td>EU</td>\n",
              "      <td>iPhone</td>\n",
              "    </tr>\n",
              "    <tr>\n",
              "      <th>61732</th>\n",
              "      <td>8F04273BB2860229</td>\n",
              "      <td>2020-12-20</td>\n",
              "      <td>EU</td>\n",
              "      <td>Android</td>\n",
              "    </tr>\n",
              "  </tbody>\n",
              "</table>\n",
              "<p>61733 rows × 4 columns</p>\n",
              "</div>\n",
              "      <button class=\"colab-df-convert\" onclick=\"convertToInteractive('df-3f4db65a-8018-4e85-a9c9-c9b8de7462b6')\"\n",
              "              title=\"Convert this dataframe to an interactive table.\"\n",
              "              style=\"display:none;\">\n",
              "        \n",
              "  <svg xmlns=\"http://www.w3.org/2000/svg\" height=\"24px\"viewBox=\"0 0 24 24\"\n",
              "       width=\"24px\">\n",
              "    <path d=\"M0 0h24v24H0V0z\" fill=\"none\"/>\n",
              "    <path d=\"M18.56 5.44l.94 2.06.94-2.06 2.06-.94-2.06-.94-.94-2.06-.94 2.06-2.06.94zm-11 1L8.5 8.5l.94-2.06 2.06-.94-2.06-.94L8.5 2.5l-.94 2.06-2.06.94zm10 10l.94 2.06.94-2.06 2.06-.94-2.06-.94-.94-2.06-.94 2.06-2.06.94z\"/><path d=\"M17.41 7.96l-1.37-1.37c-.4-.4-.92-.59-1.43-.59-.52 0-1.04.2-1.43.59L10.3 9.45l-7.72 7.72c-.78.78-.78 2.05 0 2.83L4 21.41c.39.39.9.59 1.41.59.51 0 1.02-.2 1.41-.59l7.78-7.78 2.81-2.81c.8-.78.8-2.07 0-2.86zM5.41 20L4 18.59l7.72-7.72 1.47 1.35L5.41 20z\"/>\n",
              "  </svg>\n",
              "      </button>\n",
              "      \n",
              "  <style>\n",
              "    .colab-df-container {\n",
              "      display:flex;\n",
              "      flex-wrap:wrap;\n",
              "      gap: 12px;\n",
              "    }\n",
              "\n",
              "    .colab-df-convert {\n",
              "      background-color: #E8F0FE;\n",
              "      border: none;\n",
              "      border-radius: 50%;\n",
              "      cursor: pointer;\n",
              "      display: none;\n",
              "      fill: #1967D2;\n",
              "      height: 32px;\n",
              "      padding: 0 0 0 0;\n",
              "      width: 32px;\n",
              "    }\n",
              "\n",
              "    .colab-df-convert:hover {\n",
              "      background-color: #E2EBFA;\n",
              "      box-shadow: 0px 1px 2px rgba(60, 64, 67, 0.3), 0px 1px 3px 1px rgba(60, 64, 67, 0.15);\n",
              "      fill: #174EA6;\n",
              "    }\n",
              "\n",
              "    [theme=dark] .colab-df-convert {\n",
              "      background-color: #3B4455;\n",
              "      fill: #D2E3FC;\n",
              "    }\n",
              "\n",
              "    [theme=dark] .colab-df-convert:hover {\n",
              "      background-color: #434B5C;\n",
              "      box-shadow: 0px 1px 3px 1px rgba(0, 0, 0, 0.15);\n",
              "      filter: drop-shadow(0px 1px 2px rgba(0, 0, 0, 0.3));\n",
              "      fill: #FFFFFF;\n",
              "    }\n",
              "  </style>\n",
              "\n",
              "      <script>\n",
              "        const buttonEl =\n",
              "          document.querySelector('#df-3f4db65a-8018-4e85-a9c9-c9b8de7462b6 button.colab-df-convert');\n",
              "        buttonEl.style.display =\n",
              "          google.colab.kernel.accessAllowed ? 'block' : 'none';\n",
              "\n",
              "        async function convertToInteractive(key) {\n",
              "          const element = document.querySelector('#df-3f4db65a-8018-4e85-a9c9-c9b8de7462b6');\n",
              "          const dataTable =\n",
              "            await google.colab.kernel.invokeFunction('convertToInteractive',\n",
              "                                                     [key], {});\n",
              "          if (!dataTable) return;\n",
              "\n",
              "          const docLinkHtml = 'Like what you see? Visit the ' +\n",
              "            '<a target=\"_blank\" href=https://colab.research.google.com/notebooks/data_table.ipynb>data table notebook</a>'\n",
              "            + ' to learn more about interactive tables.';\n",
              "          element.innerHTML = '';\n",
              "          dataTable['output_type'] = 'display_data';\n",
              "          await google.colab.output.renderOutput(dataTable, element);\n",
              "          const docLink = document.createElement('div');\n",
              "          docLink.innerHTML = docLinkHtml;\n",
              "          element.appendChild(docLink);\n",
              "        }\n",
              "      </script>\n",
              "    </div>\n",
              "  </div>\n",
              "  "
            ]
          },
          "metadata": {},
          "execution_count": 13
        }
      ]
    },
    {
      "cell_type": "code",
      "source": [
        "final_ab_new_users.info()"
      ],
      "metadata": {
        "colab": {
          "base_uri": "https://localhost:8080/"
        },
        "id": "J2rmp8sAf7L1",
        "outputId": "6624061f-69e0-477a-dfa7-2431fd3d06cf"
      },
      "execution_count": 14,
      "outputs": [
        {
          "output_type": "stream",
          "name": "stdout",
          "text": [
            "<class 'pandas.core.frame.DataFrame'>\n",
            "RangeIndex: 61733 entries, 0 to 61732\n",
            "Data columns (total 4 columns):\n",
            " #   Column      Non-Null Count  Dtype \n",
            "---  ------      --------------  ----- \n",
            " 0   user_id     61733 non-null  object\n",
            " 1   first_date  61733 non-null  object\n",
            " 2   region      61733 non-null  object\n",
            " 3   device      61733 non-null  object\n",
            "dtypes: object(4)\n",
            "memory usage: 1.9+ MB\n"
          ]
        }
      ]
    },
    {
      "cell_type": "code",
      "source": [
        "final_ab_new_users['first_date'].min()"
      ],
      "metadata": {
        "colab": {
          "base_uri": "https://localhost:8080/",
          "height": 35
        },
        "id": "jgVTnQhEfBRF",
        "outputId": "5785c4ea-dddf-42f9-a9d9-b5623d7a9df5"
      },
      "execution_count": 15,
      "outputs": [
        {
          "output_type": "execute_result",
          "data": {
            "text/plain": [
              "'2020-12-07'"
            ],
            "application/vnd.google.colaboratory.intrinsic+json": {
              "type": "string"
            }
          },
          "metadata": {},
          "execution_count": 15
        }
      ]
    },
    {
      "cell_type": "code",
      "source": [
        "final_ab_new_users['first_date'].max()"
      ],
      "metadata": {
        "colab": {
          "base_uri": "https://localhost:8080/",
          "height": 35
        },
        "id": "36Uo-SvGfO11",
        "outputId": "9fd09052-7fca-4d9b-8abd-cbde9b9dcb9c"
      },
      "execution_count": 16,
      "outputs": [
        {
          "output_type": "execute_result",
          "data": {
            "text/plain": [
              "'2020-12-23'"
            ],
            "application/vnd.google.colaboratory.intrinsic+json": {
              "type": "string"
            }
          },
          "metadata": {},
          "execution_count": 16
        }
      ]
    },
    {
      "cell_type": "code",
      "source": [
        "final_ab_new_users[final_ab_new_users['first_date'] > '2020-12-21']['user_id'].nunique() # количество набранных пользователей после 21.12"
      ],
      "metadata": {
        "colab": {
          "base_uri": "https://localhost:8080/"
        },
        "id": "Vm3pB-QJkmjF",
        "outputId": "9eaa1135-3d60-4132-c7f4-4edbf0972fc3"
      },
      "execution_count": 17,
      "outputs": [
        {
          "output_type": "execute_result",
          "data": {
            "text/plain": [
              "5263"
            ]
          },
          "metadata": {},
          "execution_count": 17
        }
      ]
    },
    {
      "cell_type": "code",
      "source": [
        "#final_ab_new_users= final_ab_new_users[final_ab_new_users['first_date'] <= '2020-12-21']"
      ],
      "metadata": {
        "id": "s3UB_eJqkFRw"
      },
      "execution_count": 110,
      "outputs": []
    },
    {
      "cell_type": "code",
      "source": [
        "final_ab_new_users['first_date'] = pd.to_datetime(final_ab_new_users['first_date'], format=\"%Y-%m-%d\") # преобразовываем формат даты"
      ],
      "metadata": {
        "id": "0QxdrW6vf_RF"
      },
      "execution_count": 18,
      "outputs": []
    },
    {
      "cell_type": "code",
      "source": [
        "num_duplicates2 = final_ab_new_users.duplicated().sum() # проверяем на дубликаты\n",
        "num_duplicates2"
      ],
      "metadata": {
        "colab": {
          "base_uri": "https://localhost:8080/"
        },
        "id": "tHTZFYsJgus9",
        "outputId": "60ef6e5d-b4be-490e-ff93-10ba1f7a36e0"
      },
      "execution_count": 19,
      "outputs": [
        {
          "output_type": "execute_result",
          "data": {
            "text/plain": [
              "0"
            ]
          },
          "metadata": {},
          "execution_count": 19
        }
      ]
    },
    {
      "cell_type": "code",
      "source": [
        "print(final_ab_new_users.isna().sum()) # проверка на пропуски"
      ],
      "metadata": {
        "colab": {
          "base_uri": "https://localhost:8080/"
        },
        "id": "Kval3quPh5vN",
        "outputId": "bf1d7e6b-29ea-4005-e180-ed943314eb7b"
      },
      "execution_count": 20,
      "outputs": [
        {
          "output_type": "stream",
          "name": "stdout",
          "text": [
            "user_id       0\n",
            "first_date    0\n",
            "region        0\n",
            "device        0\n",
            "dtype: int64\n"
          ]
        }
      ]
    },
    {
      "cell_type": "markdown",
      "source": [
        "Формат дат преобразовал.В таблице 5263 пользователя,которых набрали после 21.12.20(8,5%)\n",
        "\n",
        "\n"
      ],
      "metadata": {
        "id": "GymnL3SYjcIN"
      }
    },
    {
      "cell_type": "markdown",
      "source": [
        "##действия новых пользователей в период с 7 декабря 2020 по 4 января 2021 года"
      ],
      "metadata": {
        "id": "b4M5XwLrgIVP"
      }
    },
    {
      "cell_type": "code",
      "source": [
        "final_ab_events"
      ],
      "metadata": {
        "colab": {
          "base_uri": "https://localhost:8080/",
          "height": 424
        },
        "id": "_5S_0ltW4GhH",
        "outputId": "f126a44c-ee68-4d15-e99a-020e0ca9785d"
      },
      "execution_count": 21,
      "outputs": [
        {
          "output_type": "execute_result",
          "data": {
            "text/plain": [
              "                 user_id             event_dt event_name  details\n",
              "0       E1BDDCE0DAFA2679  2020-12-07 20:22:03   purchase    99.99\n",
              "1       7B6452F081F49504  2020-12-07 09:22:53   purchase     9.99\n",
              "2       9CD9F34546DF254C  2020-12-07 12:59:29   purchase     4.99\n",
              "3       96F27A054B191457  2020-12-07 04:02:40   purchase     4.99\n",
              "4       1FD7660FDF94CA1F  2020-12-07 10:15:09   purchase     4.99\n",
              "...                  ...                  ...        ...      ...\n",
              "440312  245E85F65C358E08  2020-12-30 19:35:55      login      NaN\n",
              "440313  9385A108F5A0A7A7  2020-12-30 10:54:15      login      NaN\n",
              "440314  DB650B7559AC6EAC  2020-12-30 10:59:09      login      NaN\n",
              "440315  F80C9BDDEA02E53C  2020-12-30 09:53:39      login      NaN\n",
              "440316  7AEC61159B672CC5  2020-12-30 11:36:13      login      NaN\n",
              "\n",
              "[440317 rows x 4 columns]"
            ],
            "text/html": [
              "\n",
              "  <div id=\"df-6164f581-9ac2-45ff-9c62-5d8b3fc92894\">\n",
              "    <div class=\"colab-df-container\">\n",
              "      <div>\n",
              "<style scoped>\n",
              "    .dataframe tbody tr th:only-of-type {\n",
              "        vertical-align: middle;\n",
              "    }\n",
              "\n",
              "    .dataframe tbody tr th {\n",
              "        vertical-align: top;\n",
              "    }\n",
              "\n",
              "    .dataframe thead th {\n",
              "        text-align: right;\n",
              "    }\n",
              "</style>\n",
              "<table border=\"1\" class=\"dataframe\">\n",
              "  <thead>\n",
              "    <tr style=\"text-align: right;\">\n",
              "      <th></th>\n",
              "      <th>user_id</th>\n",
              "      <th>event_dt</th>\n",
              "      <th>event_name</th>\n",
              "      <th>details</th>\n",
              "    </tr>\n",
              "  </thead>\n",
              "  <tbody>\n",
              "    <tr>\n",
              "      <th>0</th>\n",
              "      <td>E1BDDCE0DAFA2679</td>\n",
              "      <td>2020-12-07 20:22:03</td>\n",
              "      <td>purchase</td>\n",
              "      <td>99.99</td>\n",
              "    </tr>\n",
              "    <tr>\n",
              "      <th>1</th>\n",
              "      <td>7B6452F081F49504</td>\n",
              "      <td>2020-12-07 09:22:53</td>\n",
              "      <td>purchase</td>\n",
              "      <td>9.99</td>\n",
              "    </tr>\n",
              "    <tr>\n",
              "      <th>2</th>\n",
              "      <td>9CD9F34546DF254C</td>\n",
              "      <td>2020-12-07 12:59:29</td>\n",
              "      <td>purchase</td>\n",
              "      <td>4.99</td>\n",
              "    </tr>\n",
              "    <tr>\n",
              "      <th>3</th>\n",
              "      <td>96F27A054B191457</td>\n",
              "      <td>2020-12-07 04:02:40</td>\n",
              "      <td>purchase</td>\n",
              "      <td>4.99</td>\n",
              "    </tr>\n",
              "    <tr>\n",
              "      <th>4</th>\n",
              "      <td>1FD7660FDF94CA1F</td>\n",
              "      <td>2020-12-07 10:15:09</td>\n",
              "      <td>purchase</td>\n",
              "      <td>4.99</td>\n",
              "    </tr>\n",
              "    <tr>\n",
              "      <th>...</th>\n",
              "      <td>...</td>\n",
              "      <td>...</td>\n",
              "      <td>...</td>\n",
              "      <td>...</td>\n",
              "    </tr>\n",
              "    <tr>\n",
              "      <th>440312</th>\n",
              "      <td>245E85F65C358E08</td>\n",
              "      <td>2020-12-30 19:35:55</td>\n",
              "      <td>login</td>\n",
              "      <td>NaN</td>\n",
              "    </tr>\n",
              "    <tr>\n",
              "      <th>440313</th>\n",
              "      <td>9385A108F5A0A7A7</td>\n",
              "      <td>2020-12-30 10:54:15</td>\n",
              "      <td>login</td>\n",
              "      <td>NaN</td>\n",
              "    </tr>\n",
              "    <tr>\n",
              "      <th>440314</th>\n",
              "      <td>DB650B7559AC6EAC</td>\n",
              "      <td>2020-12-30 10:59:09</td>\n",
              "      <td>login</td>\n",
              "      <td>NaN</td>\n",
              "    </tr>\n",
              "    <tr>\n",
              "      <th>440315</th>\n",
              "      <td>F80C9BDDEA02E53C</td>\n",
              "      <td>2020-12-30 09:53:39</td>\n",
              "      <td>login</td>\n",
              "      <td>NaN</td>\n",
              "    </tr>\n",
              "    <tr>\n",
              "      <th>440316</th>\n",
              "      <td>7AEC61159B672CC5</td>\n",
              "      <td>2020-12-30 11:36:13</td>\n",
              "      <td>login</td>\n",
              "      <td>NaN</td>\n",
              "    </tr>\n",
              "  </tbody>\n",
              "</table>\n",
              "<p>440317 rows × 4 columns</p>\n",
              "</div>\n",
              "      <button class=\"colab-df-convert\" onclick=\"convertToInteractive('df-6164f581-9ac2-45ff-9c62-5d8b3fc92894')\"\n",
              "              title=\"Convert this dataframe to an interactive table.\"\n",
              "              style=\"display:none;\">\n",
              "        \n",
              "  <svg xmlns=\"http://www.w3.org/2000/svg\" height=\"24px\"viewBox=\"0 0 24 24\"\n",
              "       width=\"24px\">\n",
              "    <path d=\"M0 0h24v24H0V0z\" fill=\"none\"/>\n",
              "    <path d=\"M18.56 5.44l.94 2.06.94-2.06 2.06-.94-2.06-.94-.94-2.06-.94 2.06-2.06.94zm-11 1L8.5 8.5l.94-2.06 2.06-.94-2.06-.94L8.5 2.5l-.94 2.06-2.06.94zm10 10l.94 2.06.94-2.06 2.06-.94-2.06-.94-.94-2.06-.94 2.06-2.06.94z\"/><path d=\"M17.41 7.96l-1.37-1.37c-.4-.4-.92-.59-1.43-.59-.52 0-1.04.2-1.43.59L10.3 9.45l-7.72 7.72c-.78.78-.78 2.05 0 2.83L4 21.41c.39.39.9.59 1.41.59.51 0 1.02-.2 1.41-.59l7.78-7.78 2.81-2.81c.8-.78.8-2.07 0-2.86zM5.41 20L4 18.59l7.72-7.72 1.47 1.35L5.41 20z\"/>\n",
              "  </svg>\n",
              "      </button>\n",
              "      \n",
              "  <style>\n",
              "    .colab-df-container {\n",
              "      display:flex;\n",
              "      flex-wrap:wrap;\n",
              "      gap: 12px;\n",
              "    }\n",
              "\n",
              "    .colab-df-convert {\n",
              "      background-color: #E8F0FE;\n",
              "      border: none;\n",
              "      border-radius: 50%;\n",
              "      cursor: pointer;\n",
              "      display: none;\n",
              "      fill: #1967D2;\n",
              "      height: 32px;\n",
              "      padding: 0 0 0 0;\n",
              "      width: 32px;\n",
              "    }\n",
              "\n",
              "    .colab-df-convert:hover {\n",
              "      background-color: #E2EBFA;\n",
              "      box-shadow: 0px 1px 2px rgba(60, 64, 67, 0.3), 0px 1px 3px 1px rgba(60, 64, 67, 0.15);\n",
              "      fill: #174EA6;\n",
              "    }\n",
              "\n",
              "    [theme=dark] .colab-df-convert {\n",
              "      background-color: #3B4455;\n",
              "      fill: #D2E3FC;\n",
              "    }\n",
              "\n",
              "    [theme=dark] .colab-df-convert:hover {\n",
              "      background-color: #434B5C;\n",
              "      box-shadow: 0px 1px 3px 1px rgba(0, 0, 0, 0.15);\n",
              "      filter: drop-shadow(0px 1px 2px rgba(0, 0, 0, 0.3));\n",
              "      fill: #FFFFFF;\n",
              "    }\n",
              "  </style>\n",
              "\n",
              "      <script>\n",
              "        const buttonEl =\n",
              "          document.querySelector('#df-6164f581-9ac2-45ff-9c62-5d8b3fc92894 button.colab-df-convert');\n",
              "        buttonEl.style.display =\n",
              "          google.colab.kernel.accessAllowed ? 'block' : 'none';\n",
              "\n",
              "        async function convertToInteractive(key) {\n",
              "          const element = document.querySelector('#df-6164f581-9ac2-45ff-9c62-5d8b3fc92894');\n",
              "          const dataTable =\n",
              "            await google.colab.kernel.invokeFunction('convertToInteractive',\n",
              "                                                     [key], {});\n",
              "          if (!dataTable) return;\n",
              "\n",
              "          const docLinkHtml = 'Like what you see? Visit the ' +\n",
              "            '<a target=\"_blank\" href=https://colab.research.google.com/notebooks/data_table.ipynb>data table notebook</a>'\n",
              "            + ' to learn more about interactive tables.';\n",
              "          element.innerHTML = '';\n",
              "          dataTable['output_type'] = 'display_data';\n",
              "          await google.colab.output.renderOutput(dataTable, element);\n",
              "          const docLink = document.createElement('div');\n",
              "          docLink.innerHTML = docLinkHtml;\n",
              "          element.appendChild(docLink);\n",
              "        }\n",
              "      </script>\n",
              "    </div>\n",
              "  </div>\n",
              "  "
            ]
          },
          "metadata": {},
          "execution_count": 21
        }
      ]
    },
    {
      "cell_type": "code",
      "source": [
        "final_ab_events.info()"
      ],
      "metadata": {
        "colab": {
          "base_uri": "https://localhost:8080/"
        },
        "id": "EXMlhawcgN31",
        "outputId": "ba457076-62ae-46a7-ae9d-79a68668ad6a"
      },
      "execution_count": 22,
      "outputs": [
        {
          "output_type": "stream",
          "name": "stdout",
          "text": [
            "<class 'pandas.core.frame.DataFrame'>\n",
            "RangeIndex: 440317 entries, 0 to 440316\n",
            "Data columns (total 4 columns):\n",
            " #   Column      Non-Null Count   Dtype  \n",
            "---  ------      --------------   -----  \n",
            " 0   user_id     440317 non-null  object \n",
            " 1   event_dt    440317 non-null  object \n",
            " 2   event_name  440317 non-null  object \n",
            " 3   details     62740 non-null   float64\n",
            "dtypes: float64(1), object(3)\n",
            "memory usage: 13.4+ MB\n"
          ]
        }
      ]
    },
    {
      "cell_type": "code",
      "source": [
        "final_ab_events['event_dt'].min()"
      ],
      "metadata": {
        "colab": {
          "base_uri": "https://localhost:8080/",
          "height": 35
        },
        "id": "0Nbo8l2_isvd",
        "outputId": "2f33cbab-d4ae-4f82-db7d-f4c699bda0cd"
      },
      "execution_count": 23,
      "outputs": [
        {
          "output_type": "execute_result",
          "data": {
            "text/plain": [
              "'2020-12-07 00:00:33'"
            ],
            "application/vnd.google.colaboratory.intrinsic+json": {
              "type": "string"
            }
          },
          "metadata": {},
          "execution_count": 23
        }
      ]
    },
    {
      "cell_type": "code",
      "source": [
        "final_ab_events['event_dt'].max()"
      ],
      "metadata": {
        "colab": {
          "base_uri": "https://localhost:8080/",
          "height": 35
        },
        "id": "v3cNbqhIisiN",
        "outputId": "6bb7e44d-347c-4d96-dd98-6902a32260fa"
      },
      "execution_count": 24,
      "outputs": [
        {
          "output_type": "execute_result",
          "data": {
            "text/plain": [
              "'2020-12-30 23:36:33'"
            ],
            "application/vnd.google.colaboratory.intrinsic+json": {
              "type": "string"
            }
          },
          "metadata": {},
          "execution_count": 24
        }
      ]
    },
    {
      "cell_type": "code",
      "source": [
        "final_ab_events['event_dt'] = pd.to_datetime(final_ab_events['event_dt'], format=\"%Y-%m-%d\")\n",
        "final_ab_events['event_dt'] = final_ab_events['event_dt'].dt.date"
      ],
      "metadata": {
        "id": "Eh35Du8cgWTI"
      },
      "execution_count": 25,
      "outputs": []
    },
    {
      "cell_type": "code",
      "source": [
        "final_ab_events['details'] = final_ab_events['details'].astype(float)"
      ],
      "metadata": {
        "id": "YQZtqu2ZgNsN"
      },
      "execution_count": 26,
      "outputs": []
    },
    {
      "cell_type": "code",
      "source": [
        "num_duplicates3 = final_ab_events.duplicated().sum() # проверяем на дубликаты\n",
        "num_duplicates3"
      ],
      "metadata": {
        "colab": {
          "base_uri": "https://localhost:8080/"
        },
        "id": "fD7updvfhBLF",
        "outputId": "0deb28e0-4368-4634-e8ca-de40f171f724"
      },
      "execution_count": 27,
      "outputs": [
        {
          "output_type": "execute_result",
          "data": {
            "text/plain": [
              "2"
            ]
          },
          "metadata": {},
          "execution_count": 27
        }
      ]
    },
    {
      "cell_type": "code",
      "source": [
        "final_ab_events.drop_duplicates (inplace=True) #дропаем дубликаты"
      ],
      "metadata": {
        "id": "n6pNGOcwMfk3"
      },
      "execution_count": 28,
      "outputs": []
    },
    {
      "cell_type": "code",
      "source": [
        "print(final_ab_events.isna().sum()) # проверка на пропуски"
      ],
      "metadata": {
        "colab": {
          "base_uri": "https://localhost:8080/"
        },
        "id": "co43eCesh_ks",
        "outputId": "5f556fd1-3f60-4cd6-acb5-c7d3e4455da1"
      },
      "execution_count": 29,
      "outputs": [
        {
          "output_type": "stream",
          "name": "stdout",
          "text": [
            "user_id            0\n",
            "event_dt           0\n",
            "event_name         0\n",
            "details       377576\n",
            "dtype: int64\n"
          ]
        }
      ]
    },
    {
      "cell_type": "markdown",
      "source": [
        "#Формат даты преобразовал.Но данные неполные:информация об активности только до 30.12.20+ с 25.12 активности пользователей наложились на рождественнские праздники"
      ],
      "metadata": {
        "id": "nJYZv6C0lVdn"
      }
    },
    {
      "cell_type": "markdown",
      "source": [
        "##таблица участников тестов"
      ],
      "metadata": {
        "id": "ZiQTodfzgh6s"
      }
    },
    {
      "cell_type": "code",
      "source": [
        "final_ab_participants"
      ],
      "metadata": {
        "colab": {
          "base_uri": "https://localhost:8080/",
          "height": 424
        },
        "id": "MwkFZ8fR4JGV",
        "outputId": "bab6877a-f8f8-46df-b4a0-d887eb13ab5c"
      },
      "execution_count": 30,
      "outputs": [
        {
          "output_type": "execute_result",
          "data": {
            "text/plain": [
              "                user_id group                  ab_test\n",
              "0      D1ABA3E2887B6A73     A  recommender_system_test\n",
              "1      A7A3664BD6242119     A  recommender_system_test\n",
              "2      DABC14FDDFADD29E     A  recommender_system_test\n",
              "3      04988C5DF189632E     A  recommender_system_test\n",
              "4      482F14783456D21B     B  recommender_system_test\n",
              "...                 ...   ...                      ...\n",
              "18263  1D302F8688B91781     B        interface_eu_test\n",
              "18264  3DE51B726983B657     A        interface_eu_test\n",
              "18265  F501F79D332BE86C     A        interface_eu_test\n",
              "18266  63FBE257B05F2245     A        interface_eu_test\n",
              "18267  79F9ABFB029CF724     B        interface_eu_test\n",
              "\n",
              "[18268 rows x 3 columns]"
            ],
            "text/html": [
              "\n",
              "  <div id=\"df-cf799710-4226-4c9c-ab74-fd322a8c418c\">\n",
              "    <div class=\"colab-df-container\">\n",
              "      <div>\n",
              "<style scoped>\n",
              "    .dataframe tbody tr th:only-of-type {\n",
              "        vertical-align: middle;\n",
              "    }\n",
              "\n",
              "    .dataframe tbody tr th {\n",
              "        vertical-align: top;\n",
              "    }\n",
              "\n",
              "    .dataframe thead th {\n",
              "        text-align: right;\n",
              "    }\n",
              "</style>\n",
              "<table border=\"1\" class=\"dataframe\">\n",
              "  <thead>\n",
              "    <tr style=\"text-align: right;\">\n",
              "      <th></th>\n",
              "      <th>user_id</th>\n",
              "      <th>group</th>\n",
              "      <th>ab_test</th>\n",
              "    </tr>\n",
              "  </thead>\n",
              "  <tbody>\n",
              "    <tr>\n",
              "      <th>0</th>\n",
              "      <td>D1ABA3E2887B6A73</td>\n",
              "      <td>A</td>\n",
              "      <td>recommender_system_test</td>\n",
              "    </tr>\n",
              "    <tr>\n",
              "      <th>1</th>\n",
              "      <td>A7A3664BD6242119</td>\n",
              "      <td>A</td>\n",
              "      <td>recommender_system_test</td>\n",
              "    </tr>\n",
              "    <tr>\n",
              "      <th>2</th>\n",
              "      <td>DABC14FDDFADD29E</td>\n",
              "      <td>A</td>\n",
              "      <td>recommender_system_test</td>\n",
              "    </tr>\n",
              "    <tr>\n",
              "      <th>3</th>\n",
              "      <td>04988C5DF189632E</td>\n",
              "      <td>A</td>\n",
              "      <td>recommender_system_test</td>\n",
              "    </tr>\n",
              "    <tr>\n",
              "      <th>4</th>\n",
              "      <td>482F14783456D21B</td>\n",
              "      <td>B</td>\n",
              "      <td>recommender_system_test</td>\n",
              "    </tr>\n",
              "    <tr>\n",
              "      <th>...</th>\n",
              "      <td>...</td>\n",
              "      <td>...</td>\n",
              "      <td>...</td>\n",
              "    </tr>\n",
              "    <tr>\n",
              "      <th>18263</th>\n",
              "      <td>1D302F8688B91781</td>\n",
              "      <td>B</td>\n",
              "      <td>interface_eu_test</td>\n",
              "    </tr>\n",
              "    <tr>\n",
              "      <th>18264</th>\n",
              "      <td>3DE51B726983B657</td>\n",
              "      <td>A</td>\n",
              "      <td>interface_eu_test</td>\n",
              "    </tr>\n",
              "    <tr>\n",
              "      <th>18265</th>\n",
              "      <td>F501F79D332BE86C</td>\n",
              "      <td>A</td>\n",
              "      <td>interface_eu_test</td>\n",
              "    </tr>\n",
              "    <tr>\n",
              "      <th>18266</th>\n",
              "      <td>63FBE257B05F2245</td>\n",
              "      <td>A</td>\n",
              "      <td>interface_eu_test</td>\n",
              "    </tr>\n",
              "    <tr>\n",
              "      <th>18267</th>\n",
              "      <td>79F9ABFB029CF724</td>\n",
              "      <td>B</td>\n",
              "      <td>interface_eu_test</td>\n",
              "    </tr>\n",
              "  </tbody>\n",
              "</table>\n",
              "<p>18268 rows × 3 columns</p>\n",
              "</div>\n",
              "      <button class=\"colab-df-convert\" onclick=\"convertToInteractive('df-cf799710-4226-4c9c-ab74-fd322a8c418c')\"\n",
              "              title=\"Convert this dataframe to an interactive table.\"\n",
              "              style=\"display:none;\">\n",
              "        \n",
              "  <svg xmlns=\"http://www.w3.org/2000/svg\" height=\"24px\"viewBox=\"0 0 24 24\"\n",
              "       width=\"24px\">\n",
              "    <path d=\"M0 0h24v24H0V0z\" fill=\"none\"/>\n",
              "    <path d=\"M18.56 5.44l.94 2.06.94-2.06 2.06-.94-2.06-.94-.94-2.06-.94 2.06-2.06.94zm-11 1L8.5 8.5l.94-2.06 2.06-.94-2.06-.94L8.5 2.5l-.94 2.06-2.06.94zm10 10l.94 2.06.94-2.06 2.06-.94-2.06-.94-.94-2.06-.94 2.06-2.06.94z\"/><path d=\"M17.41 7.96l-1.37-1.37c-.4-.4-.92-.59-1.43-.59-.52 0-1.04.2-1.43.59L10.3 9.45l-7.72 7.72c-.78.78-.78 2.05 0 2.83L4 21.41c.39.39.9.59 1.41.59.51 0 1.02-.2 1.41-.59l7.78-7.78 2.81-2.81c.8-.78.8-2.07 0-2.86zM5.41 20L4 18.59l7.72-7.72 1.47 1.35L5.41 20z\"/>\n",
              "  </svg>\n",
              "      </button>\n",
              "      \n",
              "  <style>\n",
              "    .colab-df-container {\n",
              "      display:flex;\n",
              "      flex-wrap:wrap;\n",
              "      gap: 12px;\n",
              "    }\n",
              "\n",
              "    .colab-df-convert {\n",
              "      background-color: #E8F0FE;\n",
              "      border: none;\n",
              "      border-radius: 50%;\n",
              "      cursor: pointer;\n",
              "      display: none;\n",
              "      fill: #1967D2;\n",
              "      height: 32px;\n",
              "      padding: 0 0 0 0;\n",
              "      width: 32px;\n",
              "    }\n",
              "\n",
              "    .colab-df-convert:hover {\n",
              "      background-color: #E2EBFA;\n",
              "      box-shadow: 0px 1px 2px rgba(60, 64, 67, 0.3), 0px 1px 3px 1px rgba(60, 64, 67, 0.15);\n",
              "      fill: #174EA6;\n",
              "    }\n",
              "\n",
              "    [theme=dark] .colab-df-convert {\n",
              "      background-color: #3B4455;\n",
              "      fill: #D2E3FC;\n",
              "    }\n",
              "\n",
              "    [theme=dark] .colab-df-convert:hover {\n",
              "      background-color: #434B5C;\n",
              "      box-shadow: 0px 1px 3px 1px rgba(0, 0, 0, 0.15);\n",
              "      filter: drop-shadow(0px 1px 2px rgba(0, 0, 0, 0.3));\n",
              "      fill: #FFFFFF;\n",
              "    }\n",
              "  </style>\n",
              "\n",
              "      <script>\n",
              "        const buttonEl =\n",
              "          document.querySelector('#df-cf799710-4226-4c9c-ab74-fd322a8c418c button.colab-df-convert');\n",
              "        buttonEl.style.display =\n",
              "          google.colab.kernel.accessAllowed ? 'block' : 'none';\n",
              "\n",
              "        async function convertToInteractive(key) {\n",
              "          const element = document.querySelector('#df-cf799710-4226-4c9c-ab74-fd322a8c418c');\n",
              "          const dataTable =\n",
              "            await google.colab.kernel.invokeFunction('convertToInteractive',\n",
              "                                                     [key], {});\n",
              "          if (!dataTable) return;\n",
              "\n",
              "          const docLinkHtml = 'Like what you see? Visit the ' +\n",
              "            '<a target=\"_blank\" href=https://colab.research.google.com/notebooks/data_table.ipynb>data table notebook</a>'\n",
              "            + ' to learn more about interactive tables.';\n",
              "          element.innerHTML = '';\n",
              "          dataTable['output_type'] = 'display_data';\n",
              "          await google.colab.output.renderOutput(dataTable, element);\n",
              "          const docLink = document.createElement('div');\n",
              "          docLink.innerHTML = docLinkHtml;\n",
              "          element.appendChild(docLink);\n",
              "        }\n",
              "      </script>\n",
              "    </div>\n",
              "  </div>\n",
              "  "
            ]
          },
          "metadata": {},
          "execution_count": 30
        }
      ]
    },
    {
      "cell_type": "code",
      "source": [
        "final_ab_participants.info()"
      ],
      "metadata": {
        "colab": {
          "base_uri": "https://localhost:8080/"
        },
        "id": "36GAB7CsYNIm",
        "outputId": "d287453a-4532-4a34-d63b-713a6ec9deab"
      },
      "execution_count": 31,
      "outputs": [
        {
          "output_type": "stream",
          "name": "stdout",
          "text": [
            "<class 'pandas.core.frame.DataFrame'>\n",
            "RangeIndex: 18268 entries, 0 to 18267\n",
            "Data columns (total 3 columns):\n",
            " #   Column   Non-Null Count  Dtype \n",
            "---  ------   --------------  ----- \n",
            " 0   user_id  18268 non-null  object\n",
            " 1   group    18268 non-null  object\n",
            " 2   ab_test  18268 non-null  object\n",
            "dtypes: object(3)\n",
            "memory usage: 428.3+ KB\n"
          ]
        }
      ]
    },
    {
      "cell_type": "code",
      "source": [
        "num_duplicates4 = final_ab_participants.duplicated().sum() # проверяем на дубликаты\n",
        "num_duplicates4"
      ],
      "metadata": {
        "colab": {
          "base_uri": "https://localhost:8080/"
        },
        "id": "OCxBMvYOg0X9",
        "outputId": "5da134bd-a3f6-4389-825a-b5b15c615a13"
      },
      "execution_count": 32,
      "outputs": [
        {
          "output_type": "execute_result",
          "data": {
            "text/plain": [
              "0"
            ]
          },
          "metadata": {},
          "execution_count": 32
        }
      ]
    },
    {
      "cell_type": "code",
      "source": [
        "print(final_ab_participants.isna().sum()) # проверка на пропуски"
      ],
      "metadata": {
        "colab": {
          "base_uri": "https://localhost:8080/"
        },
        "id": "YG7vMSF6iEg0",
        "outputId": "3ccf7c11-79c8-4e62-ea6d-8022a6670738"
      },
      "execution_count": 33,
      "outputs": [
        {
          "output_type": "stream",
          "name": "stdout",
          "text": [
            "user_id    0\n",
            "group      0\n",
            "ab_test    0\n",
            "dtype: int64\n"
          ]
        }
      ]
    },
    {
      "cell_type": "markdown",
      "source": [
        "##2.Проверка на пересечения между АБ тестами и Оценка корректности проведения теста"
      ],
      "metadata": {
        "id": "fFvGq0tJRhTW"
      }
    },
    {
      "cell_type": "code",
      "source": [
        "import statsmodels.stats.power as smp # проверяем неоходимое количество пользователей\n",
        "effect_size = 0.1\n",
        "alpha = 0.05\n",
        "power = 0.8\n",
        "sample_size = smp.tt_ind_solve_power(effect_size=effect_size, alpha=alpha, power=power)\n",
        "print(\"Размер выборки для достижения мощности {0}: {1}\".format(power, round(sample_size)));"
      ],
      "metadata": {
        "colab": {
          "base_uri": "https://localhost:8080/"
        },
        "id": "c85pYXjM0jiN",
        "outputId": "7b5dabdc-db8f-492b-db9e-ace3c6578bf3"
      },
      "execution_count": 34,
      "outputs": [
        {
          "output_type": "stream",
          "name": "stdout",
          "text": [
            "Размер выборки для достижения мощности 0.8: 1571\n"
          ]
        },
        {
          "output_type": "stream",
          "name": "stderr",
          "text": [
            "/usr/local/lib/python3.10/dist-packages/scipy/stats/_continuous_distns.py:6832: RuntimeWarning: invalid value encountered in _nct_sf\n",
            "  return np.clip(_boost._nct_sf(x, df, nc), 0, 1)\n",
            "/usr/local/lib/python3.10/dist-packages/scipy/stats/_continuous_distns.py:6826: RuntimeWarning: invalid value encountered in _nct_cdf\n",
            "  return np.clip(_boost._nct_cdf(x, df, nc), 0, 1)\n"
          ]
        }
      ]
    },
    {
      "cell_type": "code",
      "source": [
        "count_A=final_ab_participants[(final_ab_participants['group']=='A')& (final_ab_participants['ab_test']=='recommender_system_test')]['user_id'].nunique() # размер контрольной группы\n",
        "count_A"
      ],
      "metadata": {
        "colab": {
          "base_uri": "https://localhost:8080/"
        },
        "id": "nI-2WG990Nby",
        "outputId": "3ece9412-460f-40f7-8ab3-8d19f4fbf5ac"
      },
      "execution_count": 40,
      "outputs": [
        {
          "output_type": "execute_result",
          "data": {
            "text/plain": [
              "2903"
            ]
          },
          "metadata": {},
          "execution_count": 40
        }
      ]
    },
    {
      "cell_type": "code",
      "source": [
        "count_B=final_ab_participants[(final_ab_participants['group']=='B')& (final_ab_participants['ab_test']=='recommender_system_test')]['user_id'].nunique() # размер тестовой группы\n",
        "count_B"
      ],
      "metadata": {
        "colab": {
          "base_uri": "https://localhost:8080/"
        },
        "id": "S8rvLYpW0Scd",
        "outputId": "8488dab8-dfd6-4ddc-e98a-6c79786c40af"
      },
      "execution_count": 41,
      "outputs": [
        {
          "output_type": "execute_result",
          "data": {
            "text/plain": [
              "2196"
            ]
          },
          "metadata": {},
          "execution_count": 41
        }
      ]
    },
    {
      "cell_type": "markdown",
      "source": [
        "Пользователей достаточно"
      ],
      "metadata": {
        "id": "OC7sY64iiHu6"
      }
    },
    {
      "cell_type": "code",
      "source": [
        "test1_users = final_ab_participants[final_ab_participants['ab_test'] == 'interface_eu_test']['user_id'].unique() # проверяем на пересечение между аб тестами\n",
        "test2_users = final_ab_participants[final_ab_participants['ab_test'] == 'recommender_system_test']['user_id'].unique()\n",
        "users_in_both_tests = np.intersect1d(test1_users, test2_users)"
      ],
      "metadata": {
        "id": "VQPlcizORoIF"
      },
      "execution_count": 37,
      "outputs": []
    },
    {
      "cell_type": "code",
      "source": [
        "users_in_both_tests_count = np.intersect1d(test1_users, test2_users).size # количество пересечений между аб тестами\n",
        "users_in_both_tests_count"
      ],
      "metadata": {
        "colab": {
          "base_uri": "https://localhost:8080/"
        },
        "id": "nWZeEKcxk_1i",
        "outputId": "ade9f15f-1f03-4c8f-bcbd-f1304e543670"
      },
      "execution_count": 38,
      "outputs": [
        {
          "output_type": "execute_result",
          "data": {
            "text/plain": [
              "1602"
            ]
          },
          "metadata": {},
          "execution_count": 38
        }
      ]
    },
    {
      "cell_type": "code",
      "source": [
        "final_ab_participants = final_ab_participants[~final_ab_participants['user_id'].isin(users_in_both_tests)] #удаляем.выборки достаточно\n"
      ],
      "metadata": {
        "id": "ojP_hH2hYPEk"
      },
      "execution_count": 39,
      "outputs": []
    },
    {
      "cell_type": "markdown",
      "source": [
        "3.Проверка на пересечения между группами"
      ],
      "metadata": {
        "id": "Uw1ZOOE9ZGEj"
      }
    },
    {
      "cell_type": "code",
      "source": [
        "test3_users = final_ab_participants[(final_ab_participants['group'] == 'A')&(final_ab_participants['ab_test'] == 'recommender_system_test')]['user_id'].unique() # проверяем на пересечение между группами\n",
        "test4_users = final_ab_participants[(final_ab_participants['group'] == 'B')&(final_ab_participants['ab_test'] == 'recommender_system_test')]['user_id'].unique()\n",
        "users_in_both_tests1 = np.intersect1d(test3_users, test4_users)\n"
      ],
      "metadata": {
        "id": "FE4GDR-RZLhX"
      },
      "execution_count": 42,
      "outputs": []
    },
    {
      "cell_type": "code",
      "source": [
        "users_in_both_tests1_count = np.intersect1d(test3_users, test4_users).size # количество пересечений между группами\n",
        "users_in_both_tests1_count"
      ],
      "metadata": {
        "colab": {
          "base_uri": "https://localhost:8080/"
        },
        "id": "TZ0B-wXWlYIS",
        "outputId": "f7cda5e8-15c3-4539-aeeb-1bd6e9ed7525"
      },
      "execution_count": 43,
      "outputs": [
        {
          "output_type": "execute_result",
          "data": {
            "text/plain": [
              "0"
            ]
          },
          "metadata": {},
          "execution_count": 43
        }
      ]
    },
    {
      "cell_type": "markdown",
      "source": [
        "Есть проблема пересечения АБ тестов.пересечения удалил"
      ],
      "metadata": {
        "id": "JfRrC8SkmGW8"
      }
    },
    {
      "cell_type": "code",
      "source": [
        "final_ab_participants=final_ab_participants[final_ab_participants['ab_test'] == 'recommender_system_test'] # сбрасываем интерфейсный аб тест"
      ],
      "metadata": {
        "id": "Zkglm5ynpBnp"
      },
      "execution_count": 48,
      "outputs": []
    },
    {
      "cell_type": "code",
      "source": [
        "df = final_ab_participants.merge(final_ab_events,how='left', on='user_id') # для удобства работы объединяем все в одну таблицу"
      ],
      "metadata": {
        "id": "QN3V5K1VDHPy"
      },
      "execution_count": 73,
      "outputs": []
    },
    {
      "cell_type": "code",
      "source": [
        "df = df.merge(final_ab_new_users, on='user_id')"
      ],
      "metadata": {
        "id": "FdDXNPwEm-Vl"
      },
      "execution_count": 78,
      "outputs": []
    },
    {
      "cell_type": "code",
      "source": [
        "df"
      ],
      "metadata": {
        "colab": {
          "base_uri": "https://localhost:8080/",
          "height": 424
        },
        "id": "RVkvb4XDn9U3",
        "outputId": "c6530e22-5239-4824-e777-d3ff4445aaf4"
      },
      "execution_count": 83,
      "outputs": [
        {
          "output_type": "execute_result",
          "data": {
            "text/plain": [
              "                user_id group                  ab_test    event_dt  \\\n",
              "0      D1ABA3E2887B6A73     A  recommender_system_test  2020-12-07   \n",
              "1      D1ABA3E2887B6A73     A  recommender_system_test  2020-12-25   \n",
              "2      D1ABA3E2887B6A73     A  recommender_system_test  2020-12-07   \n",
              "3      D1ABA3E2887B6A73     A  recommender_system_test  2020-12-25   \n",
              "4      D1ABA3E2887B6A73     A  recommender_system_test  2020-12-07   \n",
              "...                 ...   ...                      ...         ...   \n",
              "21110  6715343AFBA285AE     B  recommender_system_test  2020-12-07   \n",
              "21111  6715343AFBA285AE     B  recommender_system_test  2020-12-08   \n",
              "21112  6715343AFBA285AE     B  recommender_system_test  2020-12-09   \n",
              "21113  6715343AFBA285AE     B  recommender_system_test  2020-12-10   \n",
              "21114  6715343AFBA285AE     B  recommender_system_test  2020-12-14   \n",
              "\n",
              "         event_name  details first_date region   device  \n",
              "0          purchase    99.99 2020-12-07     EU       PC  \n",
              "1          purchase     4.99 2020-12-07     EU       PC  \n",
              "2      product_cart      NaN 2020-12-07     EU       PC  \n",
              "3      product_cart      NaN 2020-12-07     EU       PC  \n",
              "4      product_page      NaN 2020-12-07     EU       PC  \n",
              "...             ...      ...        ...    ...      ...  \n",
              "21110         login      NaN 2020-12-07    CIS  Android  \n",
              "21111         login      NaN 2020-12-07    CIS  Android  \n",
              "21112         login      NaN 2020-12-07    CIS  Android  \n",
              "21113         login      NaN 2020-12-07    CIS  Android  \n",
              "21114         login      NaN 2020-12-07    CIS  Android  \n",
              "\n",
              "[21115 rows x 9 columns]"
            ],
            "text/html": [
              "\n",
              "  <div id=\"df-581e04a3-1c63-4beb-a2ba-796472c3104f\">\n",
              "    <div class=\"colab-df-container\">\n",
              "      <div>\n",
              "<style scoped>\n",
              "    .dataframe tbody tr th:only-of-type {\n",
              "        vertical-align: middle;\n",
              "    }\n",
              "\n",
              "    .dataframe tbody tr th {\n",
              "        vertical-align: top;\n",
              "    }\n",
              "\n",
              "    .dataframe thead th {\n",
              "        text-align: right;\n",
              "    }\n",
              "</style>\n",
              "<table border=\"1\" class=\"dataframe\">\n",
              "  <thead>\n",
              "    <tr style=\"text-align: right;\">\n",
              "      <th></th>\n",
              "      <th>user_id</th>\n",
              "      <th>group</th>\n",
              "      <th>ab_test</th>\n",
              "      <th>event_dt</th>\n",
              "      <th>event_name</th>\n",
              "      <th>details</th>\n",
              "      <th>first_date</th>\n",
              "      <th>region</th>\n",
              "      <th>device</th>\n",
              "    </tr>\n",
              "  </thead>\n",
              "  <tbody>\n",
              "    <tr>\n",
              "      <th>0</th>\n",
              "      <td>D1ABA3E2887B6A73</td>\n",
              "      <td>A</td>\n",
              "      <td>recommender_system_test</td>\n",
              "      <td>2020-12-07</td>\n",
              "      <td>purchase</td>\n",
              "      <td>99.99</td>\n",
              "      <td>2020-12-07</td>\n",
              "      <td>EU</td>\n",
              "      <td>PC</td>\n",
              "    </tr>\n",
              "    <tr>\n",
              "      <th>1</th>\n",
              "      <td>D1ABA3E2887B6A73</td>\n",
              "      <td>A</td>\n",
              "      <td>recommender_system_test</td>\n",
              "      <td>2020-12-25</td>\n",
              "      <td>purchase</td>\n",
              "      <td>4.99</td>\n",
              "      <td>2020-12-07</td>\n",
              "      <td>EU</td>\n",
              "      <td>PC</td>\n",
              "    </tr>\n",
              "    <tr>\n",
              "      <th>2</th>\n",
              "      <td>D1ABA3E2887B6A73</td>\n",
              "      <td>A</td>\n",
              "      <td>recommender_system_test</td>\n",
              "      <td>2020-12-07</td>\n",
              "      <td>product_cart</td>\n",
              "      <td>NaN</td>\n",
              "      <td>2020-12-07</td>\n",
              "      <td>EU</td>\n",
              "      <td>PC</td>\n",
              "    </tr>\n",
              "    <tr>\n",
              "      <th>3</th>\n",
              "      <td>D1ABA3E2887B6A73</td>\n",
              "      <td>A</td>\n",
              "      <td>recommender_system_test</td>\n",
              "      <td>2020-12-25</td>\n",
              "      <td>product_cart</td>\n",
              "      <td>NaN</td>\n",
              "      <td>2020-12-07</td>\n",
              "      <td>EU</td>\n",
              "      <td>PC</td>\n",
              "    </tr>\n",
              "    <tr>\n",
              "      <th>4</th>\n",
              "      <td>D1ABA3E2887B6A73</td>\n",
              "      <td>A</td>\n",
              "      <td>recommender_system_test</td>\n",
              "      <td>2020-12-07</td>\n",
              "      <td>product_page</td>\n",
              "      <td>NaN</td>\n",
              "      <td>2020-12-07</td>\n",
              "      <td>EU</td>\n",
              "      <td>PC</td>\n",
              "    </tr>\n",
              "    <tr>\n",
              "      <th>...</th>\n",
              "      <td>...</td>\n",
              "      <td>...</td>\n",
              "      <td>...</td>\n",
              "      <td>...</td>\n",
              "      <td>...</td>\n",
              "      <td>...</td>\n",
              "      <td>...</td>\n",
              "      <td>...</td>\n",
              "      <td>...</td>\n",
              "    </tr>\n",
              "    <tr>\n",
              "      <th>21110</th>\n",
              "      <td>6715343AFBA285AE</td>\n",
              "      <td>B</td>\n",
              "      <td>recommender_system_test</td>\n",
              "      <td>2020-12-07</td>\n",
              "      <td>login</td>\n",
              "      <td>NaN</td>\n",
              "      <td>2020-12-07</td>\n",
              "      <td>CIS</td>\n",
              "      <td>Android</td>\n",
              "    </tr>\n",
              "    <tr>\n",
              "      <th>21111</th>\n",
              "      <td>6715343AFBA285AE</td>\n",
              "      <td>B</td>\n",
              "      <td>recommender_system_test</td>\n",
              "      <td>2020-12-08</td>\n",
              "      <td>login</td>\n",
              "      <td>NaN</td>\n",
              "      <td>2020-12-07</td>\n",
              "      <td>CIS</td>\n",
              "      <td>Android</td>\n",
              "    </tr>\n",
              "    <tr>\n",
              "      <th>21112</th>\n",
              "      <td>6715343AFBA285AE</td>\n",
              "      <td>B</td>\n",
              "      <td>recommender_system_test</td>\n",
              "      <td>2020-12-09</td>\n",
              "      <td>login</td>\n",
              "      <td>NaN</td>\n",
              "      <td>2020-12-07</td>\n",
              "      <td>CIS</td>\n",
              "      <td>Android</td>\n",
              "    </tr>\n",
              "    <tr>\n",
              "      <th>21113</th>\n",
              "      <td>6715343AFBA285AE</td>\n",
              "      <td>B</td>\n",
              "      <td>recommender_system_test</td>\n",
              "      <td>2020-12-10</td>\n",
              "      <td>login</td>\n",
              "      <td>NaN</td>\n",
              "      <td>2020-12-07</td>\n",
              "      <td>CIS</td>\n",
              "      <td>Android</td>\n",
              "    </tr>\n",
              "    <tr>\n",
              "      <th>21114</th>\n",
              "      <td>6715343AFBA285AE</td>\n",
              "      <td>B</td>\n",
              "      <td>recommender_system_test</td>\n",
              "      <td>2020-12-14</td>\n",
              "      <td>login</td>\n",
              "      <td>NaN</td>\n",
              "      <td>2020-12-07</td>\n",
              "      <td>CIS</td>\n",
              "      <td>Android</td>\n",
              "    </tr>\n",
              "  </tbody>\n",
              "</table>\n",
              "<p>21115 rows × 9 columns</p>\n",
              "</div>\n",
              "      <button class=\"colab-df-convert\" onclick=\"convertToInteractive('df-581e04a3-1c63-4beb-a2ba-796472c3104f')\"\n",
              "              title=\"Convert this dataframe to an interactive table.\"\n",
              "              style=\"display:none;\">\n",
              "        \n",
              "  <svg xmlns=\"http://www.w3.org/2000/svg\" height=\"24px\"viewBox=\"0 0 24 24\"\n",
              "       width=\"24px\">\n",
              "    <path d=\"M0 0h24v24H0V0z\" fill=\"none\"/>\n",
              "    <path d=\"M18.56 5.44l.94 2.06.94-2.06 2.06-.94-2.06-.94-.94-2.06-.94 2.06-2.06.94zm-11 1L8.5 8.5l.94-2.06 2.06-.94-2.06-.94L8.5 2.5l-.94 2.06-2.06.94zm10 10l.94 2.06.94-2.06 2.06-.94-2.06-.94-.94-2.06-.94 2.06-2.06.94z\"/><path d=\"M17.41 7.96l-1.37-1.37c-.4-.4-.92-.59-1.43-.59-.52 0-1.04.2-1.43.59L10.3 9.45l-7.72 7.72c-.78.78-.78 2.05 0 2.83L4 21.41c.39.39.9.59 1.41.59.51 0 1.02-.2 1.41-.59l7.78-7.78 2.81-2.81c.8-.78.8-2.07 0-2.86zM5.41 20L4 18.59l7.72-7.72 1.47 1.35L5.41 20z\"/>\n",
              "  </svg>\n",
              "      </button>\n",
              "      \n",
              "  <style>\n",
              "    .colab-df-container {\n",
              "      display:flex;\n",
              "      flex-wrap:wrap;\n",
              "      gap: 12px;\n",
              "    }\n",
              "\n",
              "    .colab-df-convert {\n",
              "      background-color: #E8F0FE;\n",
              "      border: none;\n",
              "      border-radius: 50%;\n",
              "      cursor: pointer;\n",
              "      display: none;\n",
              "      fill: #1967D2;\n",
              "      height: 32px;\n",
              "      padding: 0 0 0 0;\n",
              "      width: 32px;\n",
              "    }\n",
              "\n",
              "    .colab-df-convert:hover {\n",
              "      background-color: #E2EBFA;\n",
              "      box-shadow: 0px 1px 2px rgba(60, 64, 67, 0.3), 0px 1px 3px 1px rgba(60, 64, 67, 0.15);\n",
              "      fill: #174EA6;\n",
              "    }\n",
              "\n",
              "    [theme=dark] .colab-df-convert {\n",
              "      background-color: #3B4455;\n",
              "      fill: #D2E3FC;\n",
              "    }\n",
              "\n",
              "    [theme=dark] .colab-df-convert:hover {\n",
              "      background-color: #434B5C;\n",
              "      box-shadow: 0px 1px 3px 1px rgba(0, 0, 0, 0.15);\n",
              "      filter: drop-shadow(0px 1px 2px rgba(0, 0, 0, 0.3));\n",
              "      fill: #FFFFFF;\n",
              "    }\n",
              "  </style>\n",
              "\n",
              "      <script>\n",
              "        const buttonEl =\n",
              "          document.querySelector('#df-581e04a3-1c63-4beb-a2ba-796472c3104f button.colab-df-convert');\n",
              "        buttonEl.style.display =\n",
              "          google.colab.kernel.accessAllowed ? 'block' : 'none';\n",
              "\n",
              "        async function convertToInteractive(key) {\n",
              "          const element = document.querySelector('#df-581e04a3-1c63-4beb-a2ba-796472c3104f');\n",
              "          const dataTable =\n",
              "            await google.colab.kernel.invokeFunction('convertToInteractive',\n",
              "                                                     [key], {});\n",
              "          if (!dataTable) return;\n",
              "\n",
              "          const docLinkHtml = 'Like what you see? Visit the ' +\n",
              "            '<a target=\"_blank\" href=https://colab.research.google.com/notebooks/data_table.ipynb>data table notebook</a>'\n",
              "            + ' to learn more about interactive tables.';\n",
              "          element.innerHTML = '';\n",
              "          dataTable['output_type'] = 'display_data';\n",
              "          await google.colab.output.renderOutput(dataTable, element);\n",
              "          const docLink = document.createElement('div');\n",
              "          docLink.innerHTML = docLinkHtml;\n",
              "          element.appendChild(docLink);\n",
              "        }\n",
              "      </script>\n",
              "    </div>\n",
              "  </div>\n",
              "  "
            ]
          },
          "metadata": {},
          "execution_count": 83
        }
      ]
    },
    {
      "cell_type": "code",
      "source": [
        "df[df['ab_test']=='recommender_system_test'].nunique() # всего участвует пользователей"
      ],
      "metadata": {
        "colab": {
          "base_uri": "https://localhost:8080/"
        },
        "id": "ZShSpdU28B57",
        "outputId": "b4c8ac13-3aae-4d73-f08b-99c331876d4c"
      },
      "execution_count": 80,
      "outputs": [
        {
          "output_type": "execute_result",
          "data": {
            "text/plain": [
              "user_id       5099\n",
              "group            2\n",
              "ab_test          1\n",
              "event_dt        24\n",
              "event_name       4\n",
              "details          4\n",
              "first_date      15\n",
              "region           4\n",
              "device           4\n",
              "dtype: int64"
            ]
          },
          "metadata": {},
          "execution_count": 80
        }
      ]
    },
    {
      "cell_type": "code",
      "source": [
        "count_A=df[(df['group']=='A')& (df['ab_test']=='recommender_system_test')]['user_id'].nunique() # размер контрольной группы\n",
        "count_A"
      ],
      "metadata": {
        "colab": {
          "base_uri": "https://localhost:8080/"
        },
        "id": "XlfUtBIf80KH",
        "outputId": "1c840ca6-5d2c-406d-e929-9588b08702d8"
      },
      "execution_count": 84,
      "outputs": [
        {
          "output_type": "execute_result",
          "data": {
            "text/plain": [
              "2903"
            ]
          },
          "metadata": {},
          "execution_count": 84
        }
      ]
    },
    {
      "cell_type": "code",
      "source": [
        "count_B=df[(df['group']=='B')& (df['ab_test']=='recommender_system_test')]['user_id'].nunique() # размер тестовой группы\n",
        "count_B"
      ],
      "metadata": {
        "colab": {
          "base_uri": "https://localhost:8080/"
        },
        "id": "uI8bCKMI80A0",
        "outputId": "91c624ec-3d96-4253-c77d-cf3a4bc2dc40"
      },
      "execution_count": 85,
      "outputs": [
        {
          "output_type": "execute_result",
          "data": {
            "text/plain": [
              "2196"
            ]
          },
          "metadata": {},
          "execution_count": 85
        }
      ]
    },
    {
      "cell_type": "markdown",
      "source": [
        "##Распределение событий на одного пользователя в выборках"
      ],
      "metadata": {
        "id": "RHnL9CT8s5vA"
      }
    },
    {
      "cell_type": "markdown",
      "source": [
        "##Распределение пользователей по дням"
      ],
      "metadata": {
        "id": "E4vYB2OZ0QHY"
      }
    },
    {
      "cell_type": "code",
      "source": [
        "df_test1 = df[df['ab_test'] == 'recommender_system_test']\n",
        "pivot_table = df_test1.pivot_table(index='event_dt', columns='group', values='user_id', aggfunc='nunique')\n",
        "ax = pivot_table.plot(kind='line', figsize=(10,5), title='Распределение пользователей по дням')\n",
        "ax.axvline('2020-12-25', color='red', linestyle='--')\n",
        "plt.xlabel('Дата')\n",
        "plt.ylabel('Количество пользователей')\n",
        "plt.show()"
      ],
      "metadata": {
        "colab": {
          "base_uri": "https://localhost:8080/",
          "height": 487
        },
        "id": "4SVPNdtmYHCF",
        "outputId": "76d29137-ed98-4485-c4bb-98fef72cfc86"
      },
      "execution_count": 97,
      "outputs": [
        {
          "output_type": "display_data",
          "data": {
            "text/plain": [
              "<Figure size 1000x500 with 1 Axes>"
            ],
            "image/png": "[encoded data removed]"
          },
          "metadata": {}
        }
      ]
    },
    {
      "cell_type": "markdown",
      "source": [
        "##Распределение событий по дням"
      ],
      "metadata": {
        "id": "jM_HcDlp0Ty3"
      }
    },
    {
      "cell_type": "code",
      "source": [
        "df_test1 = df[df['ab_test'] == 'recommender_system_test']\n",
        "pivot_table = df_test1.pivot_table(index='event_dt', columns='group', values='event_name', aggfunc='count')\n",
        "ax = pivot_table.plot(kind='line', figsize=(10,5), title='Распределение событий по дням')\n",
        "ax.axvline('2020-12-25', color='red', linestyle='--')\n",
        "plt.xlabel('Дата')\n",
        "plt.ylabel('Количество событий')\n",
        "plt.show()"
      ],
      "metadata": {
        "colab": {
          "base_uri": "https://localhost:8080/",
          "height": 487
        },
        "id": "nmu5Y2ou-RuE",
        "outputId": "0872324d-0edc-4b53-d17f-c481369d3e1c"
      },
      "execution_count": 98,
      "outputs": [
        {
          "output_type": "display_data",
          "data": {
            "text/plain": [
              "<Figure size 1000x500 with 1 Axes>"
            ],
            "image/png": "[encoded data removed]"
          },
          "metadata": {}
        }
      ]
    },
    {
      "cell_type": "code",
      "source": [
        "df_test3= df[df['ab_test'] == 'recommender_system_test'].groupby(['event_dt','group']).agg({'event_name':'count',\n",
        "                                     'user_id':'nunique'}).reset_index()\n",
        "df_test3['mean_event']=df_test3['event_name']/df_test3['user_id']\n",
        "df_test3.head()"
      ],
      "metadata": {
        "colab": {
          "base_uri": "https://localhost:8080/",
          "height": 206
        },
        "id": "P6QxXM8eaBV-",
        "outputId": "dd36f4c5-ee4d-4e31-890d-a97e12407ab6"
      },
      "execution_count": 100,
      "outputs": [
        {
          "output_type": "execute_result",
          "data": {
            "text/plain": [
              "     event_dt group  event_name  user_id  mean_event\n",
              "0  2020-12-07     A         234      109    2.146789\n",
              "1  2020-12-07     B         290      129    2.248062\n",
              "2  2020-12-08     A         267      121    2.206612\n",
              "3  2020-12-08     B         183       88    2.079545\n",
              "4  2020-12-09     A         296      135    2.192593"
            ],
            "text/html": [
              "\n",
              "  <div id=\"df-ae920dee-98b0-4d7b-9f77-bb4cbf446741\">\n",
              "    <div class=\"colab-df-container\">\n",
              "      <div>\n",
              "<style scoped>\n",
              "    .dataframe tbody tr th:only-of-type {\n",
              "        vertical-align: middle;\n",
              "    }\n",
              "\n",
              "    .dataframe tbody tr th {\n",
              "        vertical-align: top;\n",
              "    }\n",
              "\n",
              "    .dataframe thead th {\n",
              "        text-align: right;\n",
              "    }\n",
              "</style>\n",
              "<table border=\"1\" class=\"dataframe\">\n",
              "  <thead>\n",
              "    <tr style=\"text-align: right;\">\n",
              "      <th></th>\n",
              "      <th>event_dt</th>\n",
              "      <th>group</th>\n",
              "      <th>event_name</th>\n",
              "      <th>user_id</th>\n",
              "      <th>mean_event</th>\n",
              "    </tr>\n",
              "  </thead>\n",
              "  <tbody>\n",
              "    <tr>\n",
              "      <th>0</th>\n",
              "      <td>2020-12-07</td>\n",
              "      <td>A</td>\n",
              "      <td>234</td>\n",
              "      <td>109</td>\n",
              "      <td>2.146789</td>\n",
              "    </tr>\n",
              "    <tr>\n",
              "      <th>1</th>\n",
              "      <td>2020-12-07</td>\n",
              "      <td>B</td>\n",
              "      <td>290</td>\n",
              "      <td>129</td>\n",
              "      <td>2.248062</td>\n",
              "    </tr>\n",
              "    <tr>\n",
              "      <th>2</th>\n",
              "      <td>2020-12-08</td>\n",
              "      <td>A</td>\n",
              "      <td>267</td>\n",
              "      <td>121</td>\n",
              "      <td>2.206612</td>\n",
              "    </tr>\n",
              "    <tr>\n",
              "      <th>3</th>\n",
              "      <td>2020-12-08</td>\n",
              "      <td>B</td>\n",
              "      <td>183</td>\n",
              "      <td>88</td>\n",
              "      <td>2.079545</td>\n",
              "    </tr>\n",
              "    <tr>\n",
              "      <th>4</th>\n",
              "      <td>2020-12-09</td>\n",
              "      <td>A</td>\n",
              "      <td>296</td>\n",
              "      <td>135</td>\n",
              "      <td>2.192593</td>\n",
              "    </tr>\n",
              "  </tbody>\n",
              "</table>\n",
              "</div>\n",
              "      <button class=\"colab-df-convert\" onclick=\"convertToInteractive('df-ae920dee-98b0-4d7b-9f77-bb4cbf446741')\"\n",
              "              title=\"Convert this dataframe to an interactive table.\"\n",
              "              style=\"display:none;\">\n",
              "        \n",
              "  <svg xmlns=\"http://www.w3.org/2000/svg\" height=\"24px\"viewBox=\"0 0 24 24\"\n",
              "       width=\"24px\">\n",
              "    <path d=\"M0 0h24v24H0V0z\" fill=\"none\"/>\n",
              "    <path d=\"M18.56 5.44l.94 2.06.94-2.06 2.06-.94-2.06-.94-.94-2.06-.94 2.06-2.06.94zm-11 1L8.5 8.5l.94-2.06 2.06-.94-2.06-.94L8.5 2.5l-.94 2.06-2.06.94zm10 10l.94 2.06.94-2.06 2.06-.94-2.06-.94-.94-2.06-.94 2.06-2.06.94z\"/><path d=\"M17.41 7.96l-1.37-1.37c-.4-.4-.92-.59-1.43-.59-.52 0-1.04.2-1.43.59L10.3 9.45l-7.72 7.72c-.78.78-.78 2.05 0 2.83L4 21.41c.39.39.9.59 1.41.59.51 0 1.02-.2 1.41-.59l7.78-7.78 2.81-2.81c.8-.78.8-2.07 0-2.86zM5.41 20L4 18.59l7.72-7.72 1.47 1.35L5.41 20z\"/>\n",
              "  </svg>\n",
              "      </button>\n",
              "      \n",
              "  <style>\n",
              "    .colab-df-container {\n",
              "      display:flex;\n",
              "      flex-wrap:wrap;\n",
              "      gap: 12px;\n",
              "    }\n",
              "\n",
              "    .colab-df-convert {\n",
              "      background-color: #E8F0FE;\n",
              "      border: none;\n",
              "      border-radius: 50%;\n",
              "      cursor: pointer;\n",
              "      display: none;\n",
              "      fill: #1967D2;\n",
              "      height: 32px;\n",
              "      padding: 0 0 0 0;\n",
              "      width: 32px;\n",
              "    }\n",
              "\n",
              "    .colab-df-convert:hover {\n",
              "      background-color: #E2EBFA;\n",
              "      box-shadow: 0px 1px 2px rgba(60, 64, 67, 0.3), 0px 1px 3px 1px rgba(60, 64, 67, 0.15);\n",
              "      fill: #174EA6;\n",
              "    }\n",
              "\n",
              "    [theme=dark] .colab-df-convert {\n",
              "      background-color: #3B4455;\n",
              "      fill: #D2E3FC;\n",
              "    }\n",
              "\n",
              "    [theme=dark] .colab-df-convert:hover {\n",
              "      background-color: #434B5C;\n",
              "      box-shadow: 0px 1px 3px 1px rgba(0, 0, 0, 0.15);\n",
              "      filter: drop-shadow(0px 1px 2px rgba(0, 0, 0, 0.3));\n",
              "      fill: #FFFFFF;\n",
              "    }\n",
              "  </style>\n",
              "\n",
              "      <script>\n",
              "        const buttonEl =\n",
              "          document.querySelector('#df-ae920dee-98b0-4d7b-9f77-bb4cbf446741 button.colab-df-convert');\n",
              "        buttonEl.style.display =\n",
              "          google.colab.kernel.accessAllowed ? 'block' : 'none';\n",
              "\n",
              "        async function convertToInteractive(key) {\n",
              "          const element = document.querySelector('#df-ae920dee-98b0-4d7b-9f77-bb4cbf446741');\n",
              "          const dataTable =\n",
              "            await google.colab.kernel.invokeFunction('convertToInteractive',\n",
              "                                                     [key], {});\n",
              "          if (!dataTable) return;\n",
              "\n",
              "          const docLinkHtml = 'Like what you see? Visit the ' +\n",
              "            '<a target=\"_blank\" href=https://colab.research.google.com/notebooks/data_table.ipynb>data table notebook</a>'\n",
              "            + ' to learn more about interactive tables.';\n",
              "          element.innerHTML = '';\n",
              "          dataTable['output_type'] = 'display_data';\n",
              "          await google.colab.output.renderOutput(dataTable, element);\n",
              "          const docLink = document.createElement('div');\n",
              "          docLink.innerHTML = docLinkHtml;\n",
              "          element.appendChild(docLink);\n",
              "        }\n",
              "      </script>\n",
              "    </div>\n",
              "  </div>\n",
              "  "
            ]
          },
          "metadata": {},
          "execution_count": 100
        }
      ]
    },
    {
      "cell_type": "code",
      "source": [
        "df_group_a = df_test3.loc[df_test3['group'] == 'A']\n",
        "df_group_b = df_test3.loc[df_test3['group'] == 'B']\n",
        "fig, ax = plt.subplots(figsize=(10,6))\n",
        "ax.plot(df_group_a['event_dt'], df_group_a['mean_event'], label='A')\n",
        "ax.plot(df_group_b['event_dt'], df_group_b['mean_event'], label='B')\n",
        "ax.set_title('Среднее на 1 пользователя')\n",
        "ax.set_xlabel('дата')\n",
        "ax.set_ylabel('действия')\n",
        "ax.legend()\n",
        "plt.show()"
      ],
      "metadata": {
        "colab": {
          "base_uri": "https://localhost:8080/",
          "height": 564
        },
        "id": "R6XhRB8rfCbP",
        "outputId": "f078fe9d-65d2-4c75-c859-2b0ecc5b42c9"
      },
      "execution_count": 89,
      "outputs": [
        {
          "output_type": "display_data",
          "data": {
            "text/plain": [
              "<Figure size 1000x600 with 1 Axes>"
            ],
            "image/png": "[encoded data removed]"
          },
          "metadata": {}
        }
      ]
    },
    {
      "cell_type": "markdown",
      "source": [
        "Количество событий по дням кореллирует с количеством пользователей.с 13 декабря наблюдается резкий приток пользователей контрольной группы и так до 21.12.при этом количество пользователей тестовой группы изменилось незначительно.что то пошло не так,надо разбираться"
      ],
      "metadata": {
        "id": "QEWAdTqlxaYA"
      }
    },
    {
      "cell_type": "markdown",
      "source": [
        "## Считаем конверсию по группам"
      ],
      "metadata": {
        "id": "MRdDtzY50-Gp"
      }
    },
    {
      "cell_type": "code",
      "source": [
        "df1=df[(df['group']=='A')]"
      ],
      "metadata": {
        "id": "yqxYt44ZoKhY"
      },
      "execution_count": 93,
      "outputs": []
    },
    {
      "cell_type": "code",
      "source": [
        "df2=df[(df['group']=='B')]"
      ],
      "metadata": {
        "id": "GruH7AngoMfQ"
      },
      "execution_count": 94,
      "outputs": []
    },
    {
      "cell_type": "code",
      "source": [
        "total_participants=df1['user_id'].nunique()\n",
        "logins=df1[(df1['event_name'] == 'login')]['user_id'].nunique()\n",
        "pages = df1[(df1['event_name'] == 'product_page')]['user_id'].nunique()\n",
        "carts = df1[(df1['event_name'] == 'product_cart')]['user_id'].nunique()\n",
        "purchases = df1[(df1['event_name'] == 'purchase')]['user_id'].nunique()\n",
        "payments = df1['details'].mean().round()\n",
        "\n",
        "participants=1\n",
        "login_enter= logins/total_participants\n",
        "product_pages_A= pages/logins\n",
        "conv_carts_A = carts / pages\n",
        "conv_purchases_A = purchases / carts\n",
        "\n",
        "print(total_participants, f'Всего участников группы A: {participants:}')\n",
        "print(logins, f'Конверсия группы A на страницу логина: {login_enter:}')\n",
        "print(pages, f'Конверсия группы Aна страницу товара: {product_pages_A:}')\n",
        "print(carts,f'Конверсия группы A на страницу корзины: {conv_carts_A:}')\n",
        "print(purchases,f'Конверсия группы A на страницу покупки: {conv_purchases_A:}')"
      ],
      "metadata": {
        "colab": {
          "base_uri": "https://localhost:8080/"
        },
        "id": "To9R9a9Ao93P",
        "outputId": "86841279-f830-43c5-86f2-8a0b4a478002"
      },
      "execution_count": 138,
      "outputs": [
        {
          "output_type": "stream",
          "name": "stdout",
          "text": [
            "2903 Всего участников группы A: 1\n",
            "2082 Конверсия группы A на страницу логина: 0.7171891147089218\n",
            "1360 Конверсия группы Aна страницу товара: 0.6532180595581172\n",
            "631 Конверсия группы A на страницу корзины: 0.46397058823529413\n",
            "652 Конверсия группы A на страницу покупки: 1.0332805071315372\n"
          ]
        }
      ]
    },
    {
      "cell_type": "code",
      "source": [
        "total_participants2=df2['user_id'].nunique()\n",
        "logins2=df2[(df2['event_name'] == 'login')]['user_id'].nunique()\n",
        "pages2 = df2[(df2['event_name'] == 'product_page')]['user_id'].nunique()\n",
        "carts2 = df2[(df2['event_name'] == 'product_cart')]['user_id'].nunique()\n",
        "purchases2 = df2[(df2['event_name'] == 'purchase')]['user_id'].nunique()\n",
        "payments2 = df2['details'].mean().round()\n",
        "\n",
        "participants2=1\n",
        "login_enter2= logins2/total_participants2\n",
        "product_pages_B= pages2/logins2\n",
        "conv_carts_B = carts2 / pages2\n",
        "conv_purchases_B = purchases2 / carts2\n",
        "\n",
        "print(total_participants2, f'Всего участников группы B: {participants2:}')\n",
        "print(logins2, f'Конверсия группы B на страницу логина: {login_enter2:}')\n",
        "print(pages2, f'Конверсия группы B на страницу товара: {product_pages_B:}')\n",
        "print(carts2,f'Конверсия группы B на страницу корзины: {conv_carts_B:}')\n",
        "print(purchases2,f'Конверсия группы B на страницу покупки: {conv_purchases_B:}')"
      ],
      "metadata": {
        "colab": {
          "base_uri": "https://localhost:8080/"
        },
        "id": "yXfB7haloymo",
        "outputId": "d5d98b40-5226-4800-bd5d-e62c739a4ead"
      },
      "execution_count": 139,
      "outputs": [
        {
          "output_type": "stream",
          "name": "stdout",
          "text": [
            "2196 Всего участников группы B: 1\n",
            "706 Конверсия группы B на страницу логина: 0.3214936247723133\n",
            "397 Конверсия группы B на страницу товара: 0.5623229461756374\n",
            "195 Конверсия группы B на страницу корзины: 0.491183879093199\n",
            "198 Конверсия группы B на страницу покупки: 1.0153846153846153\n"
          ]
        }
      ]
    },
    {
      "cell_type": "markdown",
      "source": [
        "В тестовой группе уже на этапе логина отвалилось 68% участников.На страницу товара лучше переходят в контрольной группе,что уже говорит о несовершенстве новой рекомендательной системы.Ну а кто до корзины дошел,без покупки не уходит)"
      ],
      "metadata": {
        "id": "I-9X5Y3pyLMA"
      }
    },
    {
      "cell_type": "markdown",
      "source": [
        "##Z-тест "
      ],
      "metadata": {
        "id": "m2eEp8pt1E5q"
      }
    },
    {
      "cell_type": "code",
      "source": [
        "# анализ конверсии переход на страницу логина\n",
        "n_a = total_participants\n",
        "n_b = total_participants2\n",
        "\n",
        "conv_a = login_enter\n",
        "conv_b = login_enter2\n",
        "\n",
        "p_pool = (conv_a * n_a + conv_b * n_b) / (n_a + n_b)\n",
        "\n",
        "se = math.sqrt(p_pool * (1 - p_pool) * (1 / n_a + 1 / n_b))\n",
        "\n",
        "z_score = (conv_b - conv_a) / se\n",
        "\n",
        "z_critical = 1.96\n",
        "\n",
        "print(f\"Z-score: {z_score:.3f}\")\n",
        "if abs(z_score) > z_critical:\n",
        "    print(\"Отвергаем нулевую гипотезу, различия между группами статистически значимы\")\n",
        "else:\n",
        "    print(\"Не получилось отвергнуть нулевую гипотезу, различия между группами не являются статистически значимыми\")"
      ],
      "metadata": {
        "colab": {
          "base_uri": "https://localhost:8080/"
        },
        "id": "HcICq6NtXUd1",
        "outputId": "f740649a-face-42b6-fe1c-f1a248511a8d"
      },
      "execution_count": 104,
      "outputs": [
        {
          "output_type": "stream",
          "name": "stdout",
          "text": [
            "Z-score: -28.106\n",
            "Отвергаем нулевую гипотезу, различия между группами статистически значимы\n"
          ]
        }
      ]
    },
    {
      "cell_type": "code",
      "source": [
        "# анализ конверсии переход на страницу товара\n",
        "n_a = total_participants\n",
        "n_b = total_participants2\n",
        "\n",
        "conv_a = product_pages_A\n",
        "conv_b = product_pages_B\n",
        "\n",
        "p_pool = (conv_a * n_a + conv_b * n_b) / (n_a + n_b)\n",
        "\n",
        "se = math.sqrt(p_pool * (1 - p_pool) * (1 / n_a + 1 / n_b))\n",
        "\n",
        "z_score = (conv_b - conv_a) / se\n",
        "\n",
        "z_critical = 1.96\n",
        "\n",
        "print(f\"Z-score: {z_score:.3f}\")\n",
        "if abs(z_score) > z_critical:\n",
        "    print(\"Отвергаем нулевую гипотезу, различия между группами статистически значимы\")\n",
        "else:\n",
        "    print(\"Не получилось отвергнуть нулевую гипотезу, различия между группами не являются статистически значимыми\")\n"
      ],
      "metadata": {
        "colab": {
          "base_uri": "https://localhost:8080/"
        },
        "id": "DdviFbDVX5t8",
        "outputId": "d0de269f-ccbe-4c71-9ce3-ae464ffc4573"
      },
      "execution_count": 105,
      "outputs": [
        {
          "output_type": "stream",
          "name": "stdout",
          "text": [
            "Z-score: -6.602\n",
            "Отвергаем нулевую гипотезу, различия между группами статистически значимы\n"
          ]
        }
      ]
    },
    {
      "cell_type": "code",
      "source": [
        "# анализ конверсии переход на страницу корзины\n",
        "n_a = total_participants\n",
        "n_b = total_participants2\n",
        "\n",
        "conv_a = conv_carts_A\n",
        "conv_b = conv_carts_B\n",
        "\n",
        "p_pool = (conv_a * n_a + conv_b * n_b) / (n_a + n_b)\n",
        "\n",
        "se = math.sqrt(p_pool * (1 - p_pool) * (1 / n_a + 1 / n_b))\n",
        "\n",
        "z_score = (conv_b - conv_a) / se\n",
        "\n",
        "z_critical = 1.96\n",
        "\n",
        "print(f\"Z-score: {z_score:.3f}\")\n",
        "if abs(z_score) > z_critical:\n",
        "    print(\"Отвергаем нулевую гипотезу, различия между группами статистически значимы\")\n",
        "else:\n",
        "    print(\"Не получилось отвергнуть нулевую гипотезу, различия между группами не являются статистически значимыми\")\n"
      ],
      "metadata": {
        "colab": {
          "base_uri": "https://localhost:8080/"
        },
        "id": "28_30ZxuGzfv",
        "outputId": "401384e7-6e4b-4a81-e6f5-f82e7db36d91"
      },
      "execution_count": 106,
      "outputs": [
        {
          "output_type": "stream",
          "name": "stdout",
          "text": [
            "Z-score: 1.927\n",
            "Не получилось отвергнуть нулевую гипотезу, различия между группами не являются статистически значимыми\n"
          ]
        }
      ]
    },
    {
      "cell_type": "markdown",
      "source": [
        "выводы в конце"
      ],
      "metadata": {
        "id": "lxlpxUm8jJYO"
      }
    },
    {
      "cell_type": "markdown",
      "source": [
        "##Давайте посчитаем деньги"
      ],
      "metadata": {
        "id": "EXvuVGDWXTkG"
      }
    },
    {
      "cell_type": "code",
      "source": [
        "df[(df['details']>0)&(df['group']=='A')]['details'].agg(['count', 'sum', 'mean']) # смотрим количество оплат,общую сумму и среднее в группе А"
      ],
      "metadata": {
        "colab": {
          "base_uri": "https://localhost:8080/"
        },
        "id": "_497XlXsOvOG",
        "outputId": "888bc7d6-4f35-468d-80d2-f283584d492e"
      },
      "execution_count": 134,
      "outputs": [
        {
          "output_type": "execute_result",
          "data": {
            "text/plain": [
              "count     1973.000000\n",
              "sum      45655.270000\n",
              "mean        23.140025\n",
              "Name: details, dtype: float64"
            ]
          },
          "metadata": {},
          "execution_count": 134
        }
      ]
    },
    {
      "cell_type": "code",
      "source": [
        "df[(df['details']>0)&(df['group']=='A')]['details'].agg(['count'])/total_participants # доля оплативших в группе А"
      ],
      "metadata": {
        "colab": {
          "base_uri": "https://localhost:8080/"
        },
        "id": "tHW_0aaOaPOB",
        "outputId": "861076a7-0712-416e-f7a4-c7d6fda4aa20"
      },
      "execution_count": 135,
      "outputs": [
        {
          "output_type": "execute_result",
          "data": {
            "text/plain": [
              "count    0.386939\n",
              "Name: details, dtype: float64"
            ]
          },
          "metadata": {},
          "execution_count": 135
        }
      ]
    },
    {
      "cell_type": "code",
      "source": [
        "df[(df['details']>0)&(df['group']=='B')]['details'].agg(['count', 'sum', 'mean']) # смотрим количество оплат,общую сумму и среднее в группе В"
      ],
      "metadata": {
        "colab": {
          "base_uri": "https://localhost:8080/"
        },
        "id": "6wRiiHMZcvEi",
        "outputId": "c0c527a1-c91d-4117-aba7-3a76df20d866"
      },
      "execution_count": 129,
      "outputs": [
        {
          "output_type": "execute_result",
          "data": {
            "text/plain": [
              "count      510.000000\n",
              "sum      11204.900000\n",
              "mean        21.970392\n",
              "Name: details, dtype: float64"
            ]
          },
          "metadata": {},
          "execution_count": 129
        }
      ]
    },
    {
      "cell_type": "code",
      "source": [
        "df[(df['details']>0)&(df['group']=='B')]['details'].agg(['count'])/total_participants2 # доля оплативших в группе В"
      ],
      "metadata": {
        "colab": {
          "base_uri": "https://localhost:8080/"
        },
        "id": "Jwlj7MDyamoh",
        "outputId": "d7c05265-bf5f-4989-caf5-53e8eae6ccca"
      },
      "execution_count": 133,
      "outputs": [
        {
          "output_type": "execute_result",
          "data": {
            "text/plain": [
              "count    0.23224\n",
              "Name: details, dtype: float64"
            ]
          },
          "metadata": {},
          "execution_count": 133
        }
      ]
    },
    {
      "cell_type": "markdown",
      "source": [
        "Тут и по деньгам тоже ожидаемо лучше в контрольной группе:средний чек и доля платящих"
      ],
      "metadata": {
        "id": "iztefiTRcqva"
      }
    },
    {
      "cell_type": "code",
      "source": [
        "df = df.sort_values(by='event_dt')\n",
        "cumulative_data = df.groupby(['group', 'event_dt'])['details'].sum().groupby('group').cumsum().reset_index()\n",
        "\n",
        "fig, ax = plt.subplots(figsize=(10, 6))\n",
        "\n",
        "for group, data in cumulative_data.groupby('group'):\n",
        "    ax.plot(data['event_dt'], data['details'], label=group)\n",
        "\n",
        "ax.set_title('Кумулятивные платежи по группам')\n",
        "ax.set_xlabel('Дата')\n",
        "ax.set_ylabel('Платежи')\n",
        "ax.legend()\n",
        "\n",
        "plt.show()"
      ],
      "metadata": {
        "colab": {
          "base_uri": "https://localhost:8080/",
          "height": 564
        },
        "id": "EqZVXtSrYqnc",
        "outputId": "3da408ab-ed7b-416e-b9e8-22a940bb8dc7"
      },
      "execution_count": 110,
      "outputs": [
        {
          "output_type": "display_data",
          "data": {
            "text/plain": [
              "<Figure size 1000x600 with 1 Axes>"
            ],
            "image/png": "[encoded data removed]"
          },
          "metadata": {}
        }
      ]
    },
    {
      "cell_type": "markdown",
      "source": [
        "##Выводы\n",
        "\n",
        "\n",
        "Тест был проведен с нарушениями: он пересекался с другим тестом, проводился в праздничные и предпраздничные дни, разница между контрольной и тестовой группами составила 24% пользователей, пользователей начали набирать после 21.12, что нарушает ТЗ, и нет информации после 30.12.\n",
        "\n",
        "Необходимо выяснить, куда пропали почти 70% пользователей, которые не прошли стадию логина.\n",
        "\n",
        "Конверсия перехода на страницу товара в контрольной группе лучше, чем в тестовой, на 9 процентных пунктов.\n",
        "\n",
        "Конверсия, касающаяся оплат, осталась почти без изменений. Это относится к тем, кто дошел до корзины. Доля пользователей, дошедших до оплаты, в контрольной группе лучше на 15 процентных пунктов!!! И средний чек в тестовой группе хуже.\n",
        "\n",
        "Нельзя принимать решения, опираясь на результаты этого теста."
      ],
      "metadata": {
        "id": "74ipSx8Ad9kw"
      }
    }
  ]
}